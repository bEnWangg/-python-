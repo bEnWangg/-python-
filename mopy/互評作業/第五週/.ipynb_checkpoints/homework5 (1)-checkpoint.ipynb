{
 "cells": [
  {
   "cell_type": "code",
   "execution_count": null,
   "metadata": {
    "collapsed": true
   },
   "outputs": [],
   "source": [
    "% matplotlib inline\n",
    "import numpy as np\n",
    "import matplotlib.pyplot as plt\n",
    "import pandas as pd"
   ]
  },
  {
   "cell_type": "markdown",
   "metadata": {},
   "source": [
    "# 第一題"
   ]
  },
  {
   "cell_type": "code",
   "execution_count": null,
   "metadata": {
    "collapsed": true
   },
   "outputs": [],
   "source": [
    "def checkyear(yy):\n",
    "\n",
    "    if int(yy) % 400 == 0 :\n",
    "        print ( yy , \"是閏年\")\n",
    "    elif int(yy) % 4 == 0 :\n",
    "        if int(yy) % 100 != 0 :\n",
    "            print ( yy,\"是閏年\")\n",
    "        else:\n",
    "            print ( yy , \"不是閏年\")\n",
    "    else:        \n",
    "          print ( yy , \"不是閏年\") \n"
   ]
  },
  {
   "cell_type": "code",
   "execution_count": null,
   "metadata": {},
   "outputs": [],
   "source": [
    "yy = ' '\n",
    "while yy != '0000':\n",
    "    yy = input('請輸入年份, 離開請輸入0000 ---->')\n",
    "    checkyear(yy)"
   ]
  },
  {
   "cell_type": "markdown",
   "metadata": {},
   "source": [
    "# 第三題 "
   ]
  },
  {
   "cell_type": "code",
   "execution_count": null,
   "metadata": {
    "collapsed": true
   },
   "outputs": [],
   "source": [
    "mydata=[[2, 2, 0, 1, 0, 0, 0, 1, 1, 0],[1, 1.5, 0, 1.5, 0, 0, 0, 0, 0, 0],\n",
    "        [1, 1.5, 0, 2, 0, 0, 0, 0, 0, 0],[1.5, 2, 0, 2, 0, 0, 0, 0, 0, 0], \n",
    "        [1.5, 2, 0, 2, 0, 0, 0, 1, 1, 0],[1, 2, 0, 1, 0, 0, 0, 1, 0, 1],\n",
    "        [1, 1.5, 0, 1.25, 0, 0, 0, 0, 0, 1.25], [1, 1, 1.5, 0, 1, 1, 0, 0, 0, 0],\n",
    "        [1.5, 2, 0, 1.25, 0, 0, 0, 1, 1, 0]]\n"
   ]
  },
  {
   "cell_type": "code",
   "execution_count": null,
   "metadata": {
    "collapsed": true
   },
   "outputs": [],
   "source": [
    "df1=pd.DataFrame(mydata)"
   ]
  },
  {
   "cell_type": "code",
   "execution_count": null,
   "metadata": {},
   "outputs": [],
   "source": [
    "df1"
   ]
  },
  {
   "cell_type": "code",
   "execution_count": null,
   "metadata": {
    "collapsed": true
   },
   "outputs": [],
   "source": [
    "df1=pd.DataFrame(mydata,index=(\"土語系\",\"財政系\",\"金融系\",\"國貿系\",\"會計系\",\"法律系\",\n",
    "\"公行系\",\"應數系\",\"教育系\"),columns=(\"國\", \"英\", \"數甲\", \"數乙\", \"物\", \"化\", \"生\",\"歷\",\"地\", \"公\"))\n"
   ]
  },
  {
   "cell_type": "code",
   "execution_count": null,
   "metadata": {},
   "outputs": [],
   "source": [
    "df1"
   ]
  },
  {
   "cell_type": "code",
   "execution_count": null,
   "metadata": {
    "collapsed": true
   },
   "outputs": [],
   "source": [
    "scort_t = [86.5, 79.4, 88.2, 96.5, 86.3, 76.8, 96.1, 78.5, 82.4, 88.6]"
   ]
  },
  {
   "cell_type": "code",
   "execution_count": null,
   "metadata": {
    "collapsed": true
   },
   "outputs": [],
   "source": [
    "df1[\"加權分數\"]=np.dot(df1.values,scort_t)"
   ]
  },
  {
   "cell_type": "code",
   "execution_count": null,
   "metadata": {},
   "outputs": [],
   "source": [
    "df1"
   ]
  },
  {
   "cell_type": "code",
   "execution_count": null,
   "metadata": {
    "collapsed": true
   },
   "outputs": [],
   "source": []
  }
 ],
 "metadata": {
  "kernelspec": {
   "display_name": "Python 3",
   "language": "python",
   "name": "python3"
  },
  "language_info": {
   "codemirror_mode": {
    "name": "ipython",
    "version": 3
   },
   "file_extension": ".py",
   "mimetype": "text/x-python",
   "name": "python",
   "nbconvert_exporter": "python",
   "pygments_lexer": "ipython3",
   "version": "3.6.2"
  }
 },
 "nbformat": 4,
 "nbformat_minor": 2
}
