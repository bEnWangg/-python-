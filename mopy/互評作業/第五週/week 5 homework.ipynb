{
 "cells": [
  {
   "cell_type": "code",
   "execution_count": 6,
   "metadata": {
    "collapsed": true
   },
   "outputs": [],
   "source": [
    "%matplotlib inline\n",
    "import numpy as np\n",
    "import matplotlib.pyplot as plt\n",
    "import pandas as pd"
   ]
  },
  {
   "cell_type": "markdown",
   "metadata": {},
   "source": [
    "# 第一題"
   ]
  },
  {
   "cell_type": "code",
   "execution_count": 7,
   "metadata": {
    "collapsed": true
   },
   "outputs": [],
   "source": [
    "def 閏年 (Y):\n",
    "    if Y%4==0 or (Y%100 == 0 and Y%400 != 0):\n",
    "        print(str(Y)+\" 不是閏年\")\n",
    "    else:\n",
    "        print(str(Y)+\" 是閏年\")"
   ]
  },
  {
   "cell_type": "code",
   "execution_count": 8,
   "metadata": {},
   "outputs": [
    {
     "name": "stdout",
     "output_type": "stream",
     "text": [
      "1994 是閏年\n"
     ]
    }
   ],
   "source": [
    "閏年(1994)"
   ]
  },
  {
   "cell_type": "markdown",
   "metadata": {},
   "source": [
    "# 第二題"
   ]
  },
  {
   "cell_type": "code",
   "execution_count": 9,
   "metadata": {},
   "outputs": [],
   "source": [
    "A1= np.random.rand(5,5)"
   ]
  },
  {
   "cell_type": "code",
   "execution_count": 10,
   "metadata": {},
   "outputs": [
    {
     "data": {
      "text/plain": [
       "array([[ 0.93870503,  0.12187589,  0.42705056,  0.456039  ,  0.63643077],\n",
       "       [ 0.67582216,  0.77567329,  0.12147373,  0.50577585,  0.96254171],\n",
       "       [ 0.8138508 ,  0.54371779,  0.37421428,  0.22134979,  0.1915351 ],\n",
       "       [ 0.02272426,  0.54592377,  0.18132777,  0.17915461,  0.86495107],\n",
       "       [ 0.07013346,  0.75359628,  0.01574792,  0.04109635,  0.08472219]])"
      ]
     },
     "execution_count": 10,
     "metadata": {},
     "output_type": "execute_result"
    }
   ],
   "source": [
    "A1"
   ]
  },
  {
   "cell_type": "code",
   "execution_count": 11,
   "metadata": {
    "collapsed": true
   },
   "outputs": [],
   "source": [
    "A2= np.random.rand(5,5)"
   ]
  },
  {
   "cell_type": "code",
   "execution_count": 12,
   "metadata": {},
   "outputs": [
    {
     "data": {
      "text/plain": [
       "array([[ 0.47000924,  0.68787504,  0.02870643,  0.80744433,  0.19972405],\n",
       "       [ 0.34758583,  0.36785828,  0.37414066,  0.26306264,  0.87963888],\n",
       "       [ 0.48915853,  0.15029588,  0.26038466,  0.03701658,  0.54284952],\n",
       "       [ 0.2356298 ,  0.20045836,  0.77794537,  0.3851025 ,  0.90567794],\n",
       "       [ 0.40491052,  0.11590564,  0.51946141,  0.11570806,  0.14945467]])"
      ]
     },
     "execution_count": 12,
     "metadata": {},
     "output_type": "execute_result"
    }
   ],
   "source": [
    "A2"
   ]
  },
  {
   "cell_type": "code",
   "execution_count": 13,
   "metadata": {
    "collapsed": true
   },
   "outputs": [],
   "source": [
    "A=A1+A2"
   ]
  },
  {
   "cell_type": "code",
   "execution_count": 14,
   "metadata": {
    "collapsed": true
   },
   "outputs": [],
   "source": [
    "def A(A1, A2):\n",
    "    A= np.matrix(A1) + np.matrix(A2)\n",
    "    return A"
   ]
  },
  {
   "cell_type": "code",
   "execution_count": 15,
   "metadata": {},
   "outputs": [
    {
     "data": {
      "text/plain": [
       "matrix([[ 1.40871428,  0.80975093,  0.455757  ,  1.26348333,  0.83615482],\n",
       "        [ 1.02340798,  1.14353157,  0.49561439,  0.7688385 ,  1.84218059],\n",
       "        [ 1.30300933,  0.69401367,  0.63459894,  0.25836637,  0.73438462],\n",
       "        [ 0.25835406,  0.74638213,  0.95927314,  0.56425712,  1.77062901],\n",
       "        [ 0.47504398,  0.86950192,  0.53520934,  0.15680441,  0.23417686]])"
      ]
     },
     "execution_count": 15,
     "metadata": {},
     "output_type": "execute_result"
    }
   ],
   "source": [
    "A(A1,A2)"
   ]
  },
  {
   "cell_type": "code",
   "execution_count": null,
   "metadata": {
    "collapsed": true
   },
   "outputs": [],
   "source": []
  }
 ],
 "metadata": {
  "kernelspec": {
   "display_name": "Python 3",
   "language": "python",
   "name": "python3"
  },
  "language_info": {
   "codemirror_mode": {
    "name": "ipython",
    "version": 3
   },
   "file_extension": ".py",
   "mimetype": "text/x-python",
   "name": "python",
   "nbconvert_exporter": "python",
   "pygments_lexer": "ipython3",
   "version": "3.6.2"
  }
 },
 "nbformat": 4,
 "nbformat_minor": 2
}
