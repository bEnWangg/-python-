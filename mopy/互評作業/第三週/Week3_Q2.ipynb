{
 "cells": [
  {
   "cell_type": "code",
   "execution_count": 52,
   "metadata": {},
   "outputs": [],
   "source": [
    "%matplotlib inline\n",
    "import numpy as np\n",
    "import matplotlib.pyplot as plt\n",
    "\n",
    "weights=[0.25,0.25,0.25,0.15,0.10]\n",
    "m1=np.random.randint(1,100,50)\n",
    "m2=np.random.randint(1,100,50)\n",
    "m3=np.random.randint(1,100,50)"
   ]
  },
  {
   "cell_type": "code",
   "execution_count": 53,
   "metadata": {},
   "outputs": [],
   "source": [
    "m1.shape=(10,5)\n",
    "m2.shape=(10,5)\n",
    "m3.shape=(10,5)"
   ]
  },
  {
   "cell_type": "code",
   "execution_count": 54,
   "metadata": {},
   "outputs": [
    {
     "data": {
      "text/plain": [
       "(array([[25, 79, 44, 16, 39],\n",
       "        [21, 87, 32, 92, 67],\n",
       "        [24,  3, 73, 68, 81],\n",
       "        [25,  9, 91, 91, 97],\n",
       "        [89, 80, 75,  2, 95],\n",
       "        [13, 90, 51, 58, 61],\n",
       "        [11, 74, 74, 75, 59],\n",
       "        [42, 27, 36, 94, 91],\n",
       "        [17, 85, 98, 62,  7],\n",
       "        [97, 52, 26, 99, 17]]), array([[51, 54, 47, 97, 84],\n",
       "        [ 8, 23, 51, 43, 14],\n",
       "        [59, 40, 54, 77, 13],\n",
       "        [58, 22, 41, 44, 52],\n",
       "        [64, 84, 51, 20, 61],\n",
       "        [36, 96, 59, 24, 64],\n",
       "        [86, 64, 36, 65, 89],\n",
       "        [ 2, 30, 18,  5, 59],\n",
       "        [29, 35, 25, 81,  9],\n",
       "        [68, 32, 44, 54, 27]]), array([[69, 80, 98, 93, 55],\n",
       "        [ 4, 29, 46, 55, 12],\n",
       "        [90, 59, 32,  7, 33],\n",
       "        [49, 46, 93, 97, 66],\n",
       "        [33, 93, 71,  9, 49],\n",
       "        [50, 53, 71, 93,  4],\n",
       "        [30, 62, 71, 32,  6],\n",
       "        [13,  4, 34, 17, 89],\n",
       "        [47, 94, 42, 56, 38],\n",
       "        [37, 29, 28,  1, 71]]))"
      ]
     },
     "execution_count": 54,
     "metadata": {},
     "output_type": "execute_result"
    }
   ],
   "source": [
    "m1,m2,m3"
   ]
  },
  {
   "cell_type": "code",
   "execution_count": 57,
   "metadata": {},
   "outputs": [],
   "source": [
    "L=np.array([average(np.dot(m1,weights)),average(np.dot(m2,weights)),average(np.dot(m3,weights))])"
   ]
  },
  {
   "cell_type": "code",
   "execution_count": 58,
   "metadata": {},
   "outputs": [
    {
     "data": {
      "text/plain": [
       "array([ 54.745,  46.545,  50.055])"
      ]
     },
     "execution_count": 58,
     "metadata": {},
     "output_type": "execute_result"
    }
   ],
   "source": [
    "L"
   ]
  },
  {
   "cell_type": "code",
   "execution_count": null,
   "metadata": {
    "collapsed": true
   },
   "outputs": [],
   "source": []
  }
 ],
 "metadata": {
  "kernelspec": {
   "display_name": "Python 3",
   "language": "python",
   "name": "python3"
  },
  "language_info": {
   "codemirror_mode": {
    "name": "ipython",
    "version": 3
   },
   "file_extension": ".py",
   "mimetype": "text/x-python",
   "name": "python",
   "nbconvert_exporter": "python",
   "pygments_lexer": "ipython3",
   "version": "3.6.2"
  }
 },
 "nbformat": 4,
 "nbformat_minor": 2
}
