{
 "cells": [
  {
   "cell_type": "code",
   "execution_count": 2,
   "metadata": {
    "collapsed": true
   },
   "outputs": [],
   "source": [
    "%matplotlib inline\n",
    "import numpy as np\n",
    "import matplotlib.pyplot as plt"
   ]
  },
  {
   "cell_type": "markdown",
   "metadata": {},
   "source": [
    "# 第一題 :"
   ]
  },
  {
   "cell_type": "code",
   "execution_count": 27,
   "metadata": {},
   "outputs": [
    {
     "data": {
      "text/plain": [
       "array([[0, 1, 1],\n",
       "       [1, 1, 1]])"
      ]
     },
     "execution_count": 27,
     "metadata": {},
     "output_type": "execute_result"
    }
   ],
   "source": [
    "m = np.array([[0,1,10],[2,6,7]])\n",
    "m = (m>=1)*1\n",
    "m"
   ]
  },
  {
   "cell_type": "markdown",
   "metadata": {},
   "source": [
    "# 第二題："
   ]
  },
  {
   "cell_type": "code",
   "execution_count": 8,
   "metadata": {
    "collapsed": true
   },
   "outputs": [],
   "source": [
    "grades = np.random.randint(0,101,150)\n",
    "grades = grades.reshape(3,10,5)"
   ]
  },
  {
   "cell_type": "code",
   "execution_count": 48,
   "metadata": {},
   "outputs": [
    {
     "data": {
      "text/plain": [
       "array([ 51.88 ,  61.355,  55.34 ])"
      ]
     },
     "execution_count": 48,
     "metadata": {},
     "output_type": "execute_result"
    }
   ],
   "source": [
    "weights=[0.25,0.25,0.25,0.15,0.10]\n",
    "averages = np.dot(grades,weights)\n",
    "result = np.dot(averages,[0.1]*10)\n",
    "result"
   ]
  },
  {
   "cell_type": "markdown",
   "metadata": {},
   "source": [
    "# 世紀魔鬼挑戰題"
   ]
  },
  {
   "cell_type": "code",
   "execution_count": null,
   "metadata": {
    "collapsed": true
   },
   "outputs": [],
   "source": [
    "import numpy as np"
   ]
  },
  {
   "cell_type": "code",
   "execution_count": 7,
   "metadata": {},
   "outputs": [
    {
     "name": "stdout",
     "output_type": "stream",
     "text": [
      "早餐 : 麥當勞\n",
      "午餐 : 湯包\n",
      "晚餐 : 魯智深\n",
      "消夜 : 政大烤場\n"
     ]
    }
   ],
   "source": [
    "breakfast_list = ['古早味', '德合香', '布朗奇早餐', '星巴克', '小貓咪', '傳香飯糰', '米塔', '麥當勞', '摩斯', '7-11', '全家']\n",
    "lunch_and_dinner_list = ['小公寓', '波波恰恰', '湯饌', '享窩咖啡', '湯包', '殺人魔王', '呷麵騎士', '提洛斯', '蝴蝶漾', '東京小城', '金鰭', '樂山', 'My麵屋', '李氏餐酒館', '里克', '水煎包', '憩賢樓', '高句麗', '魯智深', '敏忠', '大正亭', '阿里郎', '鬼匠', 'Juicy Bun', '滇味廚房']\n",
    "high_price_list = ['星巴克', '摩斯', '小公寓', '享窩咖啡', '金鰭', '李氏餐酒館', '里克', 'Juicy Bun', '滇味廚房']\n",
    "snack_list = ['豆花', '政大烤場', '丐幫滷味', '鹹水雞']\n",
    "had_high_price = False\n",
    "\n",
    "breakfast = np.random.choice(breakfast_list)\n",
    "if breakfast in high_price_list:\n",
    "    had_high_price = True\n",
    "    \n",
    "lunch = np.random.choice(lunch_and_dinner_list)\n",
    "while had_high_price and lunch in high_price_list:\n",
    "    lunch = np.random.choice(lunch_and_dinner_list)\n",
    "if lunch in high_price_list:\n",
    "    had_high_price = True\n",
    "\n",
    "dinner = np.random.choice(lunch_and_dinner_list)\n",
    "while dinner == lunch or ( had_high_price and dinner in high_price_list):\n",
    "    dinner = np.random.choice(lunch_and_dinner_list)\n",
    "if dinner in high_price_list:\n",
    "    had_high_price = True\n",
    "\n",
    "print('早餐 :', breakfast)\n",
    "print('午餐 :', lunch)\n",
    "print('晚餐 :', dinner)\n",
    "\n",
    "if not had_high_price:\n",
    "    snack = np.random.choice(snack_list)\n",
    "    print(\"消夜 :\", snack)\n",
    "\n",
    "\n",
    "\n"
   ]
  },
  {
   "cell_type": "code",
   "execution_count": null,
   "metadata": {
    "collapsed": true
   },
   "outputs": [],
   "source": []
  }
 ],
 "metadata": {
  "kernelspec": {
   "display_name": "Python 3",
   "language": "python",
   "name": "python3"
  },
  "language_info": {
   "codemirror_mode": {
    "name": "ipython",
    "version": 3
   },
   "file_extension": ".py",
   "mimetype": "text/x-python",
   "name": "python",
   "nbconvert_exporter": "python",
   "pygments_lexer": "ipython3",
   "version": "3.6.2"
  }
 },
 "nbformat": 4,
 "nbformat_minor": 2
}
