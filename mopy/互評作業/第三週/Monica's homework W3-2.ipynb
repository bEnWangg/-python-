{
 "cells": [
  {
   "cell_type": "markdown",
   "metadata": {},
   "source": [
    "# 第二題"
   ]
  },
  {
   "cell_type": "markdown",
   "metadata": {},
   "source": [
    "## 請算出A, B, C班級，每個學生的加權平均成績。"
   ]
  },
  {
   "cell_type": "code",
   "execution_count": 1,
   "metadata": {
    "collapsed": true
   },
   "outputs": [],
   "source": [
    "%matplotlib inline\n",
    "import numpy as np\n",
    "import matplotlib.pyplot as plt"
   ]
  },
  {
   "cell_type": "code",
   "execution_count": 2,
   "metadata": {
    "collapsed": true
   },
   "outputs": [],
   "source": [
    "A = np.random.randint(1, 100, 150)"
   ]
  },
  {
   "cell_type": "code",
   "execution_count": 3,
   "metadata": {},
   "outputs": [
    {
     "data": {
      "text/plain": [
       "array([26, 33, 86, 48,  1, 20, 15, 86, 53, 39, 27, 72, 96, 20, 90, 10,  5,\n",
       "       49, 78, 28, 91, 65, 65, 94, 43, 37, 48, 31, 74,  9, 88, 88, 36, 70,\n",
       "       23, 63, 79, 53, 45, 27, 34, 11, 42,  7, 52, 93, 26, 29, 77, 74, 92,\n",
       "       23, 44, 39, 23, 74, 91, 54, 24, 23, 57, 45, 21, 72, 11, 62, 91, 82,\n",
       "       78,  6, 91, 31, 64, 99, 71, 12, 10, 70, 30, 99,  4, 71, 92,  6,  9,\n",
       "       73, 58,  1, 35, 90, 36, 50, 28, 67, 69, 82,  6,  9, 63, 21, 71, 77,\n",
       "       30, 99, 69, 99, 47, 28, 51, 57, 74, 49, 28, 84, 41, 32, 76, 95, 40,\n",
       "       18, 37, 81, 41, 12, 21, 31, 43, 49, 91, 69, 53, 88, 37, 21, 43, 53,\n",
       "       53, 20, 23, 89, 66, 45,  4, 23, 29, 28, 11,  1, 48,  9])"
      ]
     },
     "execution_count": 3,
     "metadata": {},
     "output_type": "execute_result"
    }
   ],
   "source": [
    "A"
   ]
  },
  {
   "cell_type": "code",
   "execution_count": 4,
   "metadata": {
    "collapsed": true
   },
   "outputs": [],
   "source": [
    "A.shape =(3, 10, 5)"
   ]
  },
  {
   "cell_type": "code",
   "execution_count": 5,
   "metadata": {},
   "outputs": [
    {
     "data": {
      "text/plain": [
       "array([[[26, 33, 86, 48,  1],\n",
       "        [20, 15, 86, 53, 39],\n",
       "        [27, 72, 96, 20, 90],\n",
       "        [10,  5, 49, 78, 28],\n",
       "        [91, 65, 65, 94, 43],\n",
       "        [37, 48, 31, 74,  9],\n",
       "        [88, 88, 36, 70, 23],\n",
       "        [63, 79, 53, 45, 27],\n",
       "        [34, 11, 42,  7, 52],\n",
       "        [93, 26, 29, 77, 74]],\n",
       "\n",
       "       [[92, 23, 44, 39, 23],\n",
       "        [74, 91, 54, 24, 23],\n",
       "        [57, 45, 21, 72, 11],\n",
       "        [62, 91, 82, 78,  6],\n",
       "        [91, 31, 64, 99, 71],\n",
       "        [12, 10, 70, 30, 99],\n",
       "        [ 4, 71, 92,  6,  9],\n",
       "        [73, 58,  1, 35, 90],\n",
       "        [36, 50, 28, 67, 69],\n",
       "        [82,  6,  9, 63, 21]],\n",
       "\n",
       "       [[71, 77, 30, 99, 69],\n",
       "        [99, 47, 28, 51, 57],\n",
       "        [74, 49, 28, 84, 41],\n",
       "        [32, 76, 95, 40, 18],\n",
       "        [37, 81, 41, 12, 21],\n",
       "        [31, 43, 49, 91, 69],\n",
       "        [53, 88, 37, 21, 43],\n",
       "        [53, 53, 20, 23, 89],\n",
       "        [66, 45,  4, 23, 29],\n",
       "        [28, 11,  1, 48,  9]]])"
      ]
     },
     "execution_count": 5,
     "metadata": {},
     "output_type": "execute_result"
    }
   ],
   "source": [
    "A"
   ]
  },
  {
   "cell_type": "code",
   "execution_count": 6,
   "metadata": {
    "collapsed": true
   },
   "outputs": [],
   "source": [
    "weights = np.array([0.25, 0.25, 0.25, 0.15, 0.1])"
   ]
  },
  {
   "cell_type": "code",
   "execution_count": 7,
   "metadata": {},
   "outputs": [
    {
     "data": {
      "text/plain": [
       "array([[ 43.55,  42.1 ,  60.75,  30.5 ,  73.65,  41.  ,  65.8 ,  58.2 ,\n",
       "         28.  ,  55.95],\n",
       "       [ 47.9 ,  60.65,  42.65,  71.05,  68.45,  37.4 ,  43.55,  47.25,\n",
       "         45.45,  35.8 ],\n",
       "       [ 66.25,  56.85,  54.45,  58.55,  43.65,  51.3 ,  51.95,  43.85,\n",
       "         35.1 ,  18.1 ]])"
      ]
     },
     "execution_count": 7,
     "metadata": {},
     "output_type": "execute_result"
    }
   ],
   "source": [
    "np.dot(A, weights)"
   ]
  },
  {
   "cell_type": "markdown",
   "metadata": {
    "collapsed": true
   },
   "source": [
    "## 額外自己做的作業， 以班級為單位算出平均加權值"
   ]
  },
  {
   "cell_type": "code",
   "execution_count": 7,
   "metadata": {},
   "outputs": [],
   "source": [
    "%matplotlib inline\n",
    "import numpy as np\n",
    "import matplotlib.pyplot as plt"
   ]
  },
  {
   "cell_type": "code",
   "execution_count": 9,
   "metadata": {
    "collapsed": true
   },
   "outputs": [],
   "source": [
    "A = np.random.randint(1, 100, 150)"
   ]
  },
  {
   "cell_type": "code",
   "execution_count": 12,
   "metadata": {},
   "outputs": [],
   "source": [
    "A.shape =(3, 10, 5)"
   ]
  },
  {
   "cell_type": "code",
   "execution_count": 13,
   "metadata": {},
   "outputs": [
    {
     "data": {
      "text/plain": [
       "array([[[54, 91, 83, 31, 50],\n",
       "        [65, 36, 66, 99, 53],\n",
       "        [35, 83, 58, 47, 46],\n",
       "        [89, 63, 49, 65, 14],\n",
       "        [22, 99, 62, 47,  1],\n",
       "        [ 4, 35, 12, 36, 25],\n",
       "        [71, 34, 30, 21, 74],\n",
       "        [53, 73, 68, 98, 73],\n",
       "        [20, 85, 65, 56, 70],\n",
       "        [49, 87, 74, 11, 56]],\n",
       "\n",
       "       [[52, 79, 98, 49, 12],\n",
       "        [75, 55, 17, 86,  9],\n",
       "        [ 6, 83, 27, 60, 69],\n",
       "        [42, 32, 24, 16, 30],\n",
       "        [15, 27, 31, 91, 64],\n",
       "        [22, 47, 66, 82, 91],\n",
       "        [46, 57, 31, 59, 87],\n",
       "        [79, 88, 28, 23, 99],\n",
       "        [13, 31, 14, 82, 46],\n",
       "        [54, 76, 31, 70, 35]],\n",
       "\n",
       "       [[58, 51, 61, 63, 90],\n",
       "        [16, 62, 49, 74, 68],\n",
       "        [60, 49, 49, 68, 85],\n",
       "        [34, 39, 92, 69, 59],\n",
       "        [13, 65, 66, 79, 86],\n",
       "        [96, 65, 36, 26, 93],\n",
       "        [65, 39, 30, 32, 32],\n",
       "        [51, 98, 64, 74, 24],\n",
       "        [63, 86, 75,  2, 98],\n",
       "        [24, 13, 78, 99, 51]]])"
      ]
     },
     "execution_count": 13,
     "metadata": {},
     "output_type": "execute_result"
    }
   ],
   "source": [
    "A"
   ]
  },
  {
   "cell_type": "code",
   "execution_count": 18,
   "metadata": {
    "collapsed": true
   },
   "outputs": [],
   "source": [
    "weights = np.array([0.25, 0.25, 0.25, 0.15, 0.1])"
   ]
  },
  {
   "cell_type": "code",
   "execution_count": 20,
   "metadata": {},
   "outputs": [
    {
     "name": "stdout",
     "output_type": "stream",
     "text": [
      "55.16\n"
     ]
    }
   ],
   "source": [
    "Class1 = np.dot(A[0:10:30], weights)\n",
    "print(np.mean(Class1))"
   ]
  },
  {
   "cell_type": "code",
   "execution_count": 21,
   "metadata": {},
   "outputs": [
    {
     "name": "stdout",
     "output_type": "stream",
     "text": [
      "48.34\n"
     ]
    }
   ],
   "source": [
    "Class2 = np.dot(A[1:10:30], weights)\n",
    "print(np.mean(Class2))"
   ]
  },
  {
   "cell_type": "code",
   "execution_count": 22,
   "metadata": {},
   "outputs": [
    {
     "name": "stdout",
     "output_type": "stream",
     "text": [
      "56.825\n"
     ]
    }
   ],
   "source": [
    "Class3 = np.dot(A[2:10:30], weights)\n",
    "print(np.mean(Class3))"
   ]
  },
  {
   "cell_type": "markdown",
   "metadata": {},
   "source": [
    "### 只是自己做紀錄哦~ "
   ]
  },
  {
   "cell_type": "code",
   "execution_count": null,
   "metadata": {
    "collapsed": true
   },
   "outputs": [],
   "source": []
  }
 ],
 "metadata": {
  "kernelspec": {
   "display_name": "Python 3",
   "language": "python",
   "name": "python3"
  },
  "language_info": {
   "codemirror_mode": {
    "name": "ipython",
    "version": 3
   },
   "file_extension": ".py",
   "mimetype": "text/x-python",
   "name": "python",
   "nbconvert_exporter": "python",
   "pygments_lexer": "ipython3",
   "version": "3.6.2"
  }
 },
 "nbformat": 4,
 "nbformat_minor": 2
}
