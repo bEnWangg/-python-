{
 "cells": [
  {
   "cell_type": "markdown",
   "metadata": {},
   "source": [
    "## 拍拍機器人"
   ]
  },
  {
   "cell_type": "code",
   "execution_count": null,
   "metadata": {},
   "outputs": [
    {
     "name": "stdout",
     "output_type": "stream",
     "text": [
      "說點東西哈哈哈哈哈\n",
      "感恩師傅 讚嘆師傅\n",
      "說點東西但膽蛋蛋蛋\n",
      "感恩師傅 讚嘆師傅\n",
      "說點東西哈哈哈哈哈\n",
      "感恩師傅 讚嘆師傅\n"
     ]
    }
   ],
   "source": [
    "a=\"安安\"\n",
    "while a!=\"\":\n",
    "    a=input(\"說點東西：\")\n",
    "    print(\"感恩師傅 讚嘆師傅\")"
   ]
  },
  {
   "cell_type": "markdown",
   "metadata": {},
   "source": [
    "## 猜數字"
   ]
  },
  {
   "cell_type": "code",
   "execution_count": null,
   "metadata": {
    "collapsed": true
   },
   "outputs": [],
   "source": [
    "%pylab inline"
   ]
  },
  {
   "cell_type": "code",
   "execution_count": null,
   "metadata": {
    "collapsed": true
   },
   "outputs": [],
   "source": [
    "k=randict(1,100)\n",
    "a=input(\"請輸入數字\")\n",
    "while a!=k:\n",
    "    if a>k:\n",
    "        print(\"太大了啦\")\n",
    "    elif a<k:\n",
    "        print(\"太小了啦\")\n",
    "    else print(\"猜對了啦\")"
   ]
  },
  {
   "cell_type": "code",
   "execution_count": null,
   "metadata": {
    "collapsed": true
   },
   "outputs": [],
   "source": []
  }
 ],
 "metadata": {
  "kernelspec": {
   "display_name": "Python 3",
   "language": "python",
   "name": "python3"
  },
  "language_info": {
   "codemirror_mode": {
    "name": "ipython",
    "version": 3
   },
   "file_extension": ".py",
   "mimetype": "text/x-python",
   "name": "python",
   "nbconvert_exporter": "python",
   "pygments_lexer": "ipython3",
   "version": "3.6.2"
  }
 },
 "nbformat": 4,
 "nbformat_minor": 2
}
