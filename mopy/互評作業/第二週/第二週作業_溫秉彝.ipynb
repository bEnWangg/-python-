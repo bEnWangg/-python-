{
 "cells": [
  {
   "cell_type": "code",
   "execution_count": null,
   "metadata": {
    "collapsed": true
   },
   "outputs": [],
   "source": [
    "感恩系列"
   ]
  },
  {
   "cell_type": "code",
   "execution_count": null,
   "metadata": {
    "collapsed": true
   },
   "outputs": [],
   "source": [
    "message = input(\">> \")\n",
    "if \"\" in message:\n",
    "    print(\"感恩炎龍，讚嘆炎龍\")"
   ]
  },
  {
   "cell_type": "markdown",
   "metadata": {
    "collapsed": true
   },
   "source": [
    "猜數字1"
   ]
  },
  {
   "cell_type": "code",
   "execution_count": null,
   "metadata": {
    "collapsed": true
   },
   "outputs": [],
   "source": [
    "%pylab inline\n",
    "n = randint(1,101)\n",
    "m = input(\">> \")\n",
    "while int(m) > n:\n",
    "    print(\"太大了\")\n",
    "    m = input(\">> \")\n",
    "while int(m) < n:\n",
    "    print(\"太小了\")\n",
    "    m = input(\">> \")\n",
    "else:\n",
    "    print(\"正確\")"
   ]
  },
  {
   "cell_type": "markdown",
   "metadata": {},
   "source": [
    "猜數字2"
   ]
  },
  {
   "cell_type": "code",
   "execution_count": null,
   "metadata": {
    "collapsed": true
   },
   "outputs": [],
   "source": [
    "%pylab inline\n",
    "n = randint(1,101)\n",
    "m = 0\n",
    "while int(m) != n:\n",
    "    m = input(\">>\" )\n",
    "    \n",
    "    if int(m) > n:\n",
    "        print(\"太大了\")\n",
    "    \n",
    "    if int(m) < n:\n",
    "        print(\"太小了\")       \n",
    "else:\n",
    "    print(\"正確\")"
   ]
  },
  {
   "cell_type": "markdown",
   "metadata": {},
   "source": [
    "reverse"
   ]
  },
  {
   "cell_type": "code",
   "execution_count": null,
   "metadata": {
    "collapsed": true
   },
   "outputs": [],
   "source": [
    "def reverse(str1):\n",
    "    n = len(str1)\n",
    "    str2 = \"\"\n",
    "    while n > 0:\n",
    "        str2 += str1[n-1]\n",
    "        n = n - 1\n",
    "    return str2\n",
    "print(reverse(\"感恩炎龍，讚嘆炎龍\"))"
   ]
  }
 ],
 "metadata": {
  "kernelspec": {
   "display_name": "Python 3",
   "language": "python",
   "name": "python3"
  },
  "language_info": {
   "codemirror_mode": {
    "name": "ipython",
    "version": 3
   },
   "file_extension": ".py",
   "mimetype": "text/x-python",
   "name": "python",
   "nbconvert_exporter": "python",
   "pygments_lexer": "ipython3",
   "version": "3.6.2"
  }
 },
 "nbformat": 4,
 "nbformat_minor": 2
}
