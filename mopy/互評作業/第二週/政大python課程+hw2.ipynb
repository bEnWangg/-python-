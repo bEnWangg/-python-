{
 "cells": [
  {
   "cell_type": "code",
   "execution_count": 12,
   "metadata": {
    "collapsed": false
   },
   "outputs": [
    {
     "name": "stdout",
     "output_type": "stream",
     "text": [
      "Populating the interactive namespace from numpy and matplotlib\n"
     ]
    }
   ],
   "source": [
    "%pylab inline"
   ]
  },
  {
   "cell_type": "markdown",
   "metadata": {},
   "source": [
    "# 第一題\n",
    "## 猜數字"
   ]
  },
  {
   "cell_type": "code",
   "execution_count": 13,
   "metadata": {
    "collapsed": false
   },
   "outputs": [
    {
     "name": "stdout",
     "output_type": "stream",
     "text": [
      ">>50\n",
      "too low\n",
      ">>60\n",
      "too low\n",
      ">>70\n",
      "too low\n",
      ">>80\n",
      "too high\n",
      ">>75\n",
      "too high\n",
      ">>72\n",
      "too low\n",
      ">>71\n",
      "too low\n",
      ">>73\n",
      "bingo\n"
     ]
    }
   ],
   "source": [
    "answer = randint(1,101)\n",
    "guess =int(input(\">>\")) \n",
    "while (guess != answer):\n",
    "    if(guess > answer):\n",
    "        print(\"too high\")\n",
    "        guess =int(input(\">>\"))\n",
    "    elif(guess < answer):\n",
    "        print(\"too low\")\n",
    "        guess =int(input(\">>\"))\n",
    "print(\"bingo\")"
   ]
  },
  {
   "cell_type": "markdown",
   "metadata": {},
   "source": [
    "# 第二題\n",
    "## 感恩讚嘆機器人"
   ]
  },
  {
   "cell_type": "code",
   "execution_count": 1,
   "metadata": {
    "collapsed": true
   },
   "outputs": [],
   "source": [
    "def praise(name,name1):\n",
    "    message = \"感恩{}，讚嘆{}\".format(name,name1)\n",
    "    return message"
   ]
  },
  {
   "cell_type": "code",
   "execution_count": 2,
   "metadata": {
    "collapsed": false
   },
   "outputs": [
    {
     "data": {
      "text/plain": [
       "'感恩炎龍，讚嘆炎龍'"
      ]
     },
     "execution_count": 2,
     "metadata": {},
     "output_type": "execute_result"
    }
   ],
   "source": [
    "praise(\"炎龍\",\"炎龍\")"
   ]
  },
  {
   "cell_type": "code",
   "execution_count": 4,
   "metadata": {
    "collapsed": false
   },
   "outputs": [
    {
     "name": "stdout",
     "output_type": "stream",
     "text": [
      ">> 「嗨，今天天氣很好，要一起去洞爺湖喝茶吃魚嗎？」\n",
      "感恩炎龍，讚嘆炎龍\n",
      ">> 喔喔喔\n",
      "感恩炎龍，讚嘆炎龍\n",
      ">> 嗯嗯嗯\n",
      "感恩炎龍，讚嘆炎龍\n",
      ">> \n"
     ]
    }
   ],
   "source": [
    "message = input(\">> \")\n",
    "while message != \"\":\n",
    "    print(praise(\"炎龍\",\"炎龍\"))\n",
    "    message = input(\">> \")"
   ]
  },
  {
   "cell_type": "markdown",
   "metadata": {},
   "source": [
    "# 第三題\n",
    "## 寫個函數讓字串倒過來排"
   ]
  },
  {
   "cell_type": "code",
   "execution_count": 1,
   "metadata": {
    "collapsed": false
   },
   "outputs": [],
   "source": [
    "def reverse(string):\n",
    "    b = len(string)\n",
    "    while (b > 0):\n",
    "        a = string[b-1]\n",
    "        print(a,end = \"\")\n",
    "        b = b-1     \n",
    "            "
   ]
  },
  {
   "cell_type": "code",
   "execution_count": 2,
   "metadata": {
    "collapsed": false
   },
   "outputs": [
    {
     "name": "stdout",
     "output_type": "stream",
     "text": [
      "hgfdsa"
     ]
    }
   ],
   "source": [
    "reverse('asdfgh')"
   ]
  },
  {
   "cell_type": "markdown",
   "metadata": {},
   "source": [
    "# 挑戰題二\n",
    "## 我有一棵樹"
   ]
  },
  {
   "cell_type": "code",
   "execution_count": 3,
   "metadata": {
    "collapsed": true
   },
   "outputs": [],
   "source": [
    "def tree(x):\n",
    "    a = 1\n",
    "    b = x-1\n",
    "    while(a <= x and b >= 0):\n",
    "            print(\" \"*b + \"*\"*(2*a-1))\n",
    "            a += 1\n",
    "            b = b-1"
   ]
  },
  {
   "cell_type": "code",
   "execution_count": 5,
   "metadata": {
    "collapsed": false
   },
   "outputs": [
    {
     "name": "stdout",
     "output_type": "stream",
     "text": [
      "     *\n",
      "    ***\n",
      "   *****\n",
      "  *******\n",
      " *********\n",
      "***********\n"
     ]
    }
   ],
   "source": [
    "tree(6)"
   ]
  },
  {
   "cell_type": "code",
   "execution_count": null,
   "metadata": {
    "collapsed": true
   },
   "outputs": [],
   "source": []
  }
 ],
 "metadata": {
  "kernelspec": {
   "display_name": "Python 3",
   "language": "python",
   "name": "python3"
  },
  "language_info": {
   "codemirror_mode": {
    "name": "ipython",
    "version": 3
   },
   "file_extension": ".py",
   "mimetype": "text/x-python",
   "name": "python",
   "nbconvert_exporter": "python",
   "pygments_lexer": "ipython3",
   "version": "3.6.0"
  }
 },
 "nbformat": 4,
 "nbformat_minor": 2
}
