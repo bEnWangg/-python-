{
 "cells": [
  {
   "cell_type": "code",
   "execution_count": 2,
   "metadata": {},
   "outputs": [
    {
     "name": "stdout",
     "output_type": "stream",
     "text": [
      "OK\n"
     ]
    }
   ],
   "source": [
    "a = 90\n",
    "if a > 7:\n",
    "  print(\"OK\")"
   ]
  },
  {
   "cell_type": "code",
   "execution_count": 1,
   "metadata": {},
   "outputs": [
    {
     "name": "stdout",
     "output_type": "stream",
     "text": [
      ">>123\n"
     ]
    }
   ],
   "source": [
    "message = input(\">>\")\n",
    "if (\"悲傷\" in message):\n",
    "    print(\"拍拍\")"
   ]
  },
  {
   "cell_type": "code",
   "execution_count": 6,
   "metadata": {},
   "outputs": [
    {
     "name": "stdout",
     "output_type": "stream",
     "text": [
      ">>好開心\n",
      "ok i know it,god blesh you\n"
     ]
    }
   ],
   "source": [
    "message = input(\">>\")\n",
    "if (\"悲傷\" in message):\n",
    "    print(\"拍拍\")\n",
    "elif(\"開心\"in message):\n",
    "    print(\"ok i know it,god blesh you\")"
   ]
  },
  {
   "cell_type": "code",
   "execution_count": 7,
   "metadata": {},
   "outputs": [
    {
     "name": "stdout",
     "output_type": "stream",
     "text": [
      ">>123\n"
     ]
    }
   ],
   "source": [
    "message = input(\">>\")\n",
    "if (\"悲傷\" in message):\n",
    "    print(\"拍拍\")\n",
    "elif(\"開心\"in message):\n",
    "    print(\"ok i know it,god blesh you\")"
   ]
  },
  {
   "cell_type": "code",
   "execution_count": 3,
   "metadata": {},
   "outputs": [
    {
     "name": "stdout",
     "output_type": "stream",
     "text": [
      ">> 123\n",
      "靠邀\n"
     ]
    }
   ],
   "source": [
    "message = input(\">> \")\n",
    "if (\"悲傷\" in message):\n",
    "    print(\"拍拍\")\n",
    "elif(\"開心\"in message):\n",
    "    print(\"ok i know it,god blesh you\")\n",
    "else:\n",
    "    print(\"靠邀\")"
   ]
  },
  {
   "cell_type": "code",
   "execution_count": null,
   "metadata": {
    "collapsed": true
   },
   "outputs": [],
   "source": [
    "123"
   ]
  },
  {
   "cell_type": "code",
   "execution_count": null,
   "metadata": {
    "collapsed": true
   },
   "outputs": [],
   "source": []
  }
 ],
 "metadata": {
  "kernelspec": {
   "display_name": "Python 3",
   "language": "python",
   "name": "python3"
  },
  "language_info": {
   "codemirror_mode": {
    "name": "ipython",
    "version": 3
   },
   "file_extension": ".py",
   "mimetype": "text/x-python",
   "name": "python",
   "nbconvert_exporter": "python",
   "pygments_lexer": "ipython3",
   "version": "3.6.2"
  }
 },
 "nbformat": 4,
 "nbformat_minor": 2
}
