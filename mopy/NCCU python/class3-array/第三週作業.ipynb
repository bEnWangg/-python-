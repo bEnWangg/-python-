{
 "cells": [
  {
   "cell_type": "code",
   "execution_count": 1,
   "metadata": {
    "collapsed": true
   },
   "outputs": [],
   "source": [
    "%matplotlib inline\n",
    "import numpy as np\n",
    "import matplotlib.pyplot as plt"
   ]
  },
  {
   "cell_type": "markdown",
   "metadata": {},
   "source": [
    "# 第二題"
   ]
  },
  {
   "cell_type": "code",
   "execution_count": 11,
   "metadata": {},
   "outputs": [
    {
     "name": "stdout",
     "output_type": "stream",
     "text": [
      "全校成績,[[[44 74 58 93 92]\n",
      "  [ 8 49 62 34 53]\n",
      "  [96 10  2 23 42]\n",
      "  [98 40 89 52 74]\n",
      "  [41 18 87 29 49]\n",
      "  [23 53  2 85 48]\n",
      "  [82 18 70 19 52]\n",
      "  [29 37 39 21 29]\n",
      "  [88 46 58 79 97]\n",
      "  [41 69  6 43 32]]\n",
      "\n",
      " [[81 65 54 62  2]\n",
      "  [79  8 18 43 51]\n",
      "  [38 87 66 45 89]\n",
      "  [73 81 71 20 61]\n",
      "  [10 90 50 82 69]\n",
      "  [94 20 18 62 36]\n",
      "  [58 88 66 22 45]\n",
      "  [82 36 18 72 93]\n",
      "  [47 87 79 97  8]\n",
      "  [82 32 33 12 52]]\n",
      "\n",
      " [[55  1 83 62 70]\n",
      "  [42 33 48 41 17]\n",
      "  [82  5 45  1 80]\n",
      "  [26 58 26 37 54]\n",
      "  [37 48 60 65 20]\n",
      "  [18 52 32 92 74]\n",
      "  [80 43 84  2 16]\n",
      "  [90 40 90  7 10]\n",
      "  [36 53 23 60 37]\n",
      "  [27 69 45 16 27]]]個人加權平均[[ 67.15  40.15  34.65  71.95  45.75  37.05  50.55  32.3   69.55  38.65]\n",
      " [ 59.5   37.8   63.4   65.35  56.7   45.9   60.8   54.1   68.6   43.75]\n",
      " [ 51.05  38.6   41.15  38.45  48.    46.7   53.65  57.05  40.7   40.35]]\n",
      "第1班個人加權成績：[ 67.15  40.15  34.65  71.95  45.75  37.05  50.55  32.3   69.55  38.65]  全班加權平均成績：48.775\n",
      "第2班個人加權成績：[ 59.5   37.8   63.4   65.35  56.7   45.9   60.8   54.1   68.6   43.75]  全班加權平均成績：55.59\n",
      "第3班個人加權成績：[ 51.05  38.6   41.15  38.45  48.    46.7   53.65  57.05  40.7   40.35]  全班加權平均成績：45.57\n"
     ]
    }
   ],
   "source": [
    "a = np.random.randint(1,100,150)\n",
    "grades = a.reshape(3,10,5)\n",
    "weights = np.array([0.25,0.25,0.25,0.15,0.10])\n",
    "b = np.dot(grades,weights)\n",
    "cl = np.dot(b,[0.1]*10)\n",
    "print (\"全校成績\"+\",\"+ str(grades)+\"個人加權平均\"+str(b))\n",
    "for i in range(3):\n",
    "    a = b[i]\n",
    "    c = (b[i].sum())/10\n",
    "    i = i+1\n",
    "    print(\"第\"+str(i)+\"班個人加權成績：\"+ str(a),\"\",\"全班加權平均成績：\"+ str(c))"
   ]
  },
  {
   "cell_type": "code",
   "execution_count": 12,
   "metadata": {},
   "outputs": [
    {
     "data": {
      "text/plain": [
       "array([ 48.775,  55.59 ,  45.57 ])"
      ]
     },
     "execution_count": 12,
     "metadata": {},
     "output_type": "execute_result"
    }
   ],
   "source": [
    "cl"
   ]
  },
  {
   "cell_type": "markdown",
   "metadata": {},
   "source": [
    "為何0.1＊10就可以變成三個！？！？"
   ]
  },
  {
   "cell_type": "code",
   "execution_count": null,
   "metadata": {
    "collapsed": true
   },
   "outputs": [],
   "source": []
  }
 ],
 "metadata": {
  "kernelspec": {
   "display_name": "Python 3",
   "language": "python",
   "name": "python3"
  },
  "language_info": {
   "codemirror_mode": {
    "name": "ipython",
    "version": 3
   },
   "file_extension": ".py",
   "mimetype": "text/x-python",
   "name": "python",
   "nbconvert_exporter": "python",
   "pygments_lexer": "ipython3",
   "version": "3.6.2"
  }
 },
 "nbformat": 4,
 "nbformat_minor": 2
}
