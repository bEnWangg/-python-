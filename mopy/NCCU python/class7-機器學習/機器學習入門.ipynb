{
 "cells": [
  {
   "cell_type": "markdown",
   "metadata": {},
   "source": [
    "# 機器學習\n",
    "\n",
    "第一步：分類\n",
    "\n",
    "例如\n",
    "圖形辨識\n",
    "-->照片變數字？\n",
    "客戶辨識\n",
    "-->人如何輸入\n",
    "\n",
    "\n",
    "利用兩種方法做分類\n",
    "1.監督式學習-->ＳＶＭ\n",
    "    知道歷史答案讓電腦學習，找到其中的函數，進行預測，其中一種就是SVM，support vector machain\n",
    "\n",
    "2.非監督式學習-->Ｋ-Ｍeans\n",
    "K-means 自動分類，不知道數據如何分類\n",
    "\n",
    "例如網路電商，客戶之料讓電腦分類後，我們再看看不同的客戶怎麼做行銷\n",
    "\n",
    "3.另外還有一種學習函數叫「深度學習」的方法-->之後才會拍片教\n",
    "\n",
    "\n"
   ]
  },
  {
   "cell_type": "markdown",
   "metadata": {},
   "source": [
    "# 分類資料準備"
   ]
  },
  {
   "cell_type": "code",
   "execution_count": 1,
   "metadata": {
    "collapsed": true
   },
   "outputs": [],
   "source": [
    "%matplotlib inline\n",
    "import numpy as np\n",
    "import matplotlib.pyplot as plt"
   ]
  },
  {
   "cell_type": "markdown",
   "metadata": {},
   "source": [
    "# 用SVM 做分類\n",
    "\n",
    "假設我們有四個點，兩個類別\n",
    "list 是[]  array是()"
   ]
  },
  {
   "cell_type": "code",
   "execution_count": 2,
   "metadata": {
    "collapsed": true
   },
   "outputs": [],
   "source": [
    "x = np.array([[-3,2],[-6,5],[3,-4],[2,-8]])\n",
    "y = np.array([1,1,2,2])"
   ]
  },
  {
   "cell_type": "markdown",
   "metadata": {},
   "source": [
    "我們要畫圖時，需要把x中的x座標,y座標分成兩個list(array)，記得我們要x全部是這樣叫出來的\n",
    "\n",
    "而x中前面的元素(x座標)是這樣。當然y座標也是類似的方法叫出來\n",
    "\n",
    "plt.plot-->線\n",
    "plt.scatter-->點\n",
    "\n",
    "後面的c=[1,1,2,2]也可改成 c=y\n",
    "\n",
    "y是分類後的答案\n"
   ]
  },
  {
   "cell_type": "code",
   "execution_count": 5,
   "metadata": {},
   "outputs": [
    {
     "data": {
      "text/plain": [
       "<matplotlib.collections.PathCollection at 0x111e54e48>"
      ]
     },
     "execution_count": 5,
     "metadata": {},
     "output_type": "execute_result"
    },
    {
     "data": {
      "image/png": "[encoded data removed]",
      "text/plain": [
       "<matplotlib.figure.Figure at 0x111d86550>"
      ]
     },
     "metadata": {},
     "output_type": "display_data"
    }
   ],
   "source": [
    "plt.scatter([-3,-6,3,2],[2,5,-4,-8],c=[1,1,2,2]) "
   ]
  },
  {
   "cell_type": "code",
   "execution_count": 6,
   "metadata": {},
   "outputs": [
    {
     "data": {
      "text/plain": [
       "array([[-3,  2],\n",
       "       [-6,  5],\n",
       "       [ 3, -4],\n",
       "       [ 2, -8]])"
      ]
     },
     "execution_count": 6,
     "metadata": {},
     "output_type": "execute_result"
    }
   ],
   "source": [
    "x"
   ]
  },
  {
   "cell_type": "code",
   "execution_count": 10,
   "metadata": {},
   "outputs": [
    {
     "data": {
      "text/plain": [
       "-4"
      ]
     },
     "execution_count": 10,
     "metadata": {},
     "output_type": "execute_result"
    }
   ],
   "source": [
    "x[2,1]"
   ]
  },
  {
   "cell_type": "code",
   "execution_count": 11,
   "metadata": {},
   "outputs": [
    {
     "data": {
      "text/plain": [
       "array([[-3,  2],\n",
       "       [-6,  5],\n",
       "       [ 3, -4],\n",
       "       [ 2, -8]])"
      ]
     },
     "execution_count": 11,
     "metadata": {},
     "output_type": "execute_result"
    }
   ],
   "source": [
    "x[:]"
   ]
  },
  {
   "cell_type": "code",
   "execution_count": 12,
   "metadata": {},
   "outputs": [
    {
     "data": {
      "text/plain": [
       "array([-3, -6,  3,  2])"
      ]
     },
     "execution_count": 12,
     "metadata": {},
     "output_type": "execute_result"
    }
   ],
   "source": [
    "x[:,0]"
   ]
  },
  {
   "cell_type": "markdown",
   "metadata": {},
   "source": [
    "x[:] 選擇全部\n",
    "x[:,0] 只選x的第一列"
   ]
  },
  {
   "cell_type": "code",
   "execution_count": 14,
   "metadata": {},
   "outputs": [
    {
     "data": {
      "text/plain": [
       "<matplotlib.collections.PathCollection at 0x1120b7780>"
      ]
     },
     "execution_count": 14,
     "metadata": {},
     "output_type": "execute_result"
    },
    {
     "data": {
      "image/png": "[encoded data removed]",
      "text/plain": [
       "<matplotlib.figure.Figure at 0x111febda0>"
      ]
     },
     "metadata": {},
     "output_type": "display_data"
    }
   ],
   "source": [
    "plt.scatter([-3,-6,3,2],[2,5,-4,-8],s=100,c=y) "
   ]
  },
  {
   "cell_type": "markdown",
   "metadata": {},
   "source": [
    "# SVM分類\n",
    "支持向量機\n",
    "\n",
    "from sklearn.svm import SVC 讀入SVM"
   ]
  },
  {
   "cell_type": "code",
   "execution_count": 2,
   "metadata": {},
   "outputs": [],
   "source": [
    "from sklearn.svm import SVC"
   ]
  },
  {
   "cell_type": "code",
   "execution_count": 16,
   "metadata": {
    "collapsed": true
   },
   "outputs": [],
   "source": [
    "clf = SVC()"
   ]
  },
  {
   "cell_type": "markdown",
   "metadata": {},
   "source": [
    "開一台機器給SVC"
   ]
  },
  {
   "cell_type": "code",
   "execution_count": 17,
   "metadata": {},
   "outputs": [
    {
     "data": {
      "text/plain": [
       "SVC(C=1.0, cache_size=200, class_weight=None, coef0=0.0,\n",
       "  decision_function_shape='ovr', degree=3, gamma='auto', kernel='rbf',\n",
       "  max_iter=-1, probability=False, random_state=None, shrinking=True,\n",
       "  tol=0.001, verbose=False)"
      ]
     },
     "execution_count": 17,
     "metadata": {},
     "output_type": "execute_result"
    }
   ],
   "source": [
    "clf.fit(x,y)"
   ]
  },
  {
   "cell_type": "markdown",
   "metadata": {},
   "source": [
    "# 預測結果\n",
    "\n",
    "predect要注意，一定要放完整的list [[3,-2]]"
   ]
  },
  {
   "cell_type": "code",
   "execution_count": 19,
   "metadata": {},
   "outputs": [
    {
     "data": {
      "text/plain": [
       "array([1])"
      ]
     },
     "execution_count": 19,
     "metadata": {},
     "output_type": "execute_result"
    }
   ],
   "source": [
    "clf.predict([[-3,2]])"
   ]
  },
  {
   "cell_type": "code",
   "execution_count": 20,
   "metadata": {},
   "outputs": [
    {
     "data": {
      "text/plain": [
       "array([1, 1, 2, 2])"
      ]
     },
     "execution_count": 20,
     "metadata": {},
     "output_type": "execute_result"
    }
   ],
   "source": [
    "clf.predict(x)"
   ]
  },
  {
   "cell_type": "code",
   "execution_count": 21,
   "metadata": {},
   "outputs": [
    {
     "data": {
      "text/plain": [
       "array([1])"
      ]
     },
     "execution_count": 21,
     "metadata": {},
     "output_type": "execute_result"
    }
   ],
   "source": [
    "clf.predict([[2.11,6]])"
   ]
  },
  {
   "cell_type": "markdown",
   "metadata": {},
   "source": [
    "# 創造格點\n",
    "\n",
    "meshgrid"
   ]
  },
  {
   "cell_type": "code",
   "execution_count": 22,
   "metadata": {
    "collapsed": true
   },
   "outputs": [],
   "source": [
    "xx = [1,2,3,4]\n",
    "yy = [5,6,7,8]"
   ]
  },
  {
   "cell_type": "code",
   "execution_count": 23,
   "metadata": {
    "collapsed": true
   },
   "outputs": [],
   "source": [
    "X,Y = np.meshgrid(xx,yy)"
   ]
  },
  {
   "cell_type": "code",
   "execution_count": 24,
   "metadata": {},
   "outputs": [
    {
     "data": {
      "text/plain": [
       "array([[1, 2, 3, 4],\n",
       "       [1, 2, 3, 4],\n",
       "       [1, 2, 3, 4],\n",
       "       [1, 2, 3, 4]])"
      ]
     },
     "execution_count": 24,
     "metadata": {},
     "output_type": "execute_result"
    }
   ],
   "source": [
    "X"
   ]
  },
  {
   "cell_type": "code",
   "execution_count": 25,
   "metadata": {},
   "outputs": [
    {
     "data": {
      "text/plain": [
       "array([[5, 5, 5, 5],\n",
       "       [6, 6, 6, 6],\n",
       "       [7, 7, 7, 7],\n",
       "       [8, 8, 8, 8]])"
      ]
     },
     "execution_count": 25,
     "metadata": {},
     "output_type": "execute_result"
    }
   ],
   "source": [
    "Y"
   ]
  },
  {
   "cell_type": "code",
   "execution_count": 26,
   "metadata": {
    "collapsed": true
   },
   "outputs": [],
   "source": [
    "X,Y = np.meshgrid(np.linspace(-6,3,30),np.linspace(-8,5,30))"
   ]
  },
  {
   "cell_type": "code",
   "execution_count": 27,
   "metadata": {
    "collapsed": true
   },
   "outputs": [
    {
     "data": {
      "text/plain": [
       "array([[-6.        , -5.68965517, -5.37931034, -5.06896552, -4.75862069,\n",
       "        -4.44827586, -4.13793103, -3.82758621, -3.51724138, -3.20689655,\n",
       "        -2.89655172, -2.5862069 , -2.27586207, -1.96551724, -1.65517241,\n",
       "        -1.34482759, -1.03448276, -0.72413793, -0.4137931 , -0.10344828,\n",
       "         0.20689655,  0.51724138,  0.82758621,  1.13793103,  1.44827586,\n",
       "         1.75862069,  2.06896552,  2.37931034,  2.68965517,  3.        ],\n",
       "       [-6.        , -5.68965517, -5.37931034, -5.06896552, -4.75862069,\n",
       "        -4.44827586, -4.13793103, -3.82758621, -3.51724138, -3.20689655,\n",
       "        -2.89655172, -2.5862069 , -2.27586207, -1.96551724, -1.65517241,\n",
       "        -1.34482759, -1.03448276, -0.72413793, -0.4137931 , -0.10344828,\n",
       "         0.20689655,  0.51724138,  0.82758621,  1.13793103,  1.44827586,\n",
       "         1.75862069,  2.06896552,  2.37931034,  2.68965517,  3.        ],\n",
       "       [-6.        , -5.68965517, -5.37931034, -5.06896552, -4.75862069,\n",
       "        -4.44827586, -4.13793103, -3.82758621, -3.51724138, -3.20689655,\n",
       "        -2.89655172, -2.5862069 , -2.27586207, -1.96551724, -1.65517241,\n",
       "        -1.34482759, -1.03448276, -0.72413793, -0.4137931 , -0.10344828,\n",
       "         0.20689655,  0.51724138,  0.82758621,  1.13793103,  1.44827586,\n",
       "         1.75862069,  2.06896552,  2.37931034,  2.68965517,  3.        ],\n",
       "       [-6.        , -5.68965517, -5.37931034, -5.06896552, -4.75862069,\n",
       "        -4.44827586, -4.13793103, -3.82758621, -3.51724138, -3.20689655,\n",
       "        -2.89655172, -2.5862069 , -2.27586207, -1.96551724, -1.65517241,\n",
       "        -1.34482759, -1.03448276, -0.72413793, -0.4137931 , -0.10344828,\n",
       "         0.20689655,  0.51724138,  0.82758621,  1.13793103,  1.44827586,\n",
       "         1.75862069,  2.06896552,  2.37931034,  2.68965517,  3.        ],\n",
       "       [-6.        , -5.68965517, -5.37931034, -5.06896552, -4.75862069,\n",
       "        -4.44827586, -4.13793103, -3.82758621, -3.51724138, -3.20689655,\n",
       "        -2.89655172, -2.5862069 , -2.27586207, -1.96551724, -1.65517241,\n",
       "        -1.34482759, -1.03448276, -0.72413793, -0.4137931 , -0.10344828,\n",
       "         0.20689655,  0.51724138,  0.82758621,  1.13793103,  1.44827586,\n",
       "         1.75862069,  2.06896552,  2.37931034,  2.68965517,  3.        ],\n",
       "       [-6.        , -5.68965517, -5.37931034, -5.06896552, -4.75862069,\n",
       "        -4.44827586, -4.13793103, -3.82758621, -3.51724138, -3.20689655,\n",
       "        -2.89655172, -2.5862069 , -2.27586207, -1.96551724, -1.65517241,\n",
       "        -1.34482759, -1.03448276, -0.72413793, -0.4137931 , -0.10344828,\n",
       "         0.20689655,  0.51724138,  0.82758621,  1.13793103,  1.44827586,\n",
       "         1.75862069,  2.06896552,  2.37931034,  2.68965517,  3.        ],\n",
       "       [-6.        , -5.68965517, -5.37931034, -5.06896552, -4.75862069,\n",
       "        -4.44827586, -4.13793103, -3.82758621, -3.51724138, -3.20689655,\n",
       "        -2.89655172, -2.5862069 , -2.27586207, -1.96551724, -1.65517241,\n",
       "        -1.34482759, -1.03448276, -0.72413793, -0.4137931 , -0.10344828,\n",
       "         0.20689655,  0.51724138,  0.82758621,  1.13793103,  1.44827586,\n",
       "         1.75862069,  2.06896552,  2.37931034,  2.68965517,  3.        ],\n",
       "       [-6.        , -5.68965517, -5.37931034, -5.06896552, -4.75862069,\n",
       "        -4.44827586, -4.13793103, -3.82758621, -3.51724138, -3.20689655,\n",
       "        -2.89655172, -2.5862069 , -2.27586207, -1.96551724, -1.65517241,\n",
       "        -1.34482759, -1.03448276, -0.72413793, -0.4137931 , -0.10344828,\n",
       "         0.20689655,  0.51724138,  0.82758621,  1.13793103,  1.44827586,\n",
       "         1.75862069,  2.06896552,  2.37931034,  2.68965517,  3.        ],\n",
       "       [-6.        , -5.68965517, -5.37931034, -5.06896552, -4.75862069,\n",
       "        -4.44827586, -4.13793103, -3.82758621, -3.51724138, -3.20689655,\n",
       "        -2.89655172, -2.5862069 , -2.27586207, -1.96551724, -1.65517241,\n",
       "        -1.34482759, -1.03448276, -0.72413793, -0.4137931 , -0.10344828,\n",
       "         0.20689655,  0.51724138,  0.82758621,  1.13793103,  1.44827586,\n",
       "         1.75862069,  2.06896552,  2.37931034,  2.68965517,  3.        ],\n",
       "       [-6.        , -5.68965517, -5.37931034, -5.06896552, -4.75862069,\n",
       "        -4.44827586, -4.13793103, -3.82758621, -3.51724138, -3.20689655,\n",
       "        -2.89655172, -2.5862069 , -2.27586207, -1.96551724, -1.65517241,\n",
       "        -1.34482759, -1.03448276, -0.72413793, -0.4137931 , -0.10344828,\n",
       "         0.20689655,  0.51724138,  0.82758621,  1.13793103,  1.44827586,\n",
       "         1.75862069,  2.06896552,  2.37931034,  2.68965517,  3.        ],\n",
       "       [-6.        , -5.68965517, -5.37931034, -5.06896552, -4.75862069,\n",
       "        -4.44827586, -4.13793103, -3.82758621, -3.51724138, -3.20689655,\n",
       "        -2.89655172, -2.5862069 , -2.27586207, -1.96551724, -1.65517241,\n",
       "        -1.34482759, -1.03448276, -0.72413793, -0.4137931 , -0.10344828,\n",
       "         0.20689655,  0.51724138,  0.82758621,  1.13793103,  1.44827586,\n",
       "         1.75862069,  2.06896552,  2.37931034,  2.68965517,  3.        ],\n",
       "       [-6.        , -5.68965517, -5.37931034, -5.06896552, -4.75862069,\n",
       "        -4.44827586, -4.13793103, -3.82758621, -3.51724138, -3.20689655,\n",
       "        -2.89655172, -2.5862069 , -2.27586207, -1.96551724, -1.65517241,\n",
       "        -1.34482759, -1.03448276, -0.72413793, -0.4137931 , -0.10344828,\n",
       "         0.20689655,  0.51724138,  0.82758621,  1.13793103,  1.44827586,\n",
       "         1.75862069,  2.06896552,  2.37931034,  2.68965517,  3.        ],\n",
       "       [-6.        , -5.68965517, -5.37931034, -5.06896552, -4.75862069,\n",
       "        -4.44827586, -4.13793103, -3.82758621, -3.51724138, -3.20689655,\n",
       "        -2.89655172, -2.5862069 , -2.27586207, -1.96551724, -1.65517241,\n",
       "        -1.34482759, -1.03448276, -0.72413793, -0.4137931 , -0.10344828,\n",
       "         0.20689655,  0.51724138,  0.82758621,  1.13793103,  1.44827586,\n",
       "         1.75862069,  2.06896552,  2.37931034,  2.68965517,  3.        ],\n",
       "       [-6.        , -5.68965517, -5.37931034, -5.06896552, -4.75862069,\n",
       "        -4.44827586, -4.13793103, -3.82758621, -3.51724138, -3.20689655,\n",
       "        -2.89655172, -2.5862069 , -2.27586207, -1.96551724, -1.65517241,\n",
       "        -1.34482759, -1.03448276, -0.72413793, -0.4137931 , -0.10344828,\n",
       "         0.20689655,  0.51724138,  0.82758621,  1.13793103,  1.44827586,\n",
       "         1.75862069,  2.06896552,  2.37931034,  2.68965517,  3.        ],\n",
       "       [-6.        , -5.68965517, -5.37931034, -5.06896552, -4.75862069,\n",
       "        -4.44827586, -4.13793103, -3.82758621, -3.51724138, -3.20689655,\n",
       "        -2.89655172, -2.5862069 , -2.27586207, -1.96551724, -1.65517241,\n",
       "        -1.34482759, -1.03448276, -0.72413793, -0.4137931 , -0.10344828,\n",
       "         0.20689655,  0.51724138,  0.82758621,  1.13793103,  1.44827586,\n",
       "         1.75862069,  2.06896552,  2.37931034,  2.68965517,  3.        ],\n",
       "       [-6.        , -5.68965517, -5.37931034, -5.06896552, -4.75862069,\n",
       "        -4.44827586, -4.13793103, -3.82758621, -3.51724138, -3.20689655,\n",
       "        -2.89655172, -2.5862069 , -2.27586207, -1.96551724, -1.65517241,\n",
       "        -1.34482759, -1.03448276, -0.72413793, -0.4137931 , -0.10344828,\n",
       "         0.20689655,  0.51724138,  0.82758621,  1.13793103,  1.44827586,\n",
       "         1.75862069,  2.06896552,  2.37931034,  2.68965517,  3.        ],\n",
       "       [-6.        , -5.68965517, -5.37931034, -5.06896552, -4.75862069,\n",
       "        -4.44827586, -4.13793103, -3.82758621, -3.51724138, -3.20689655,\n",
       "        -2.89655172, -2.5862069 , -2.27586207, -1.96551724, -1.65517241,\n",
       "        -1.34482759, -1.03448276, -0.72413793, -0.4137931 , -0.10344828,\n",
       "         0.20689655,  0.51724138,  0.82758621,  1.13793103,  1.44827586,\n",
       "         1.75862069,  2.06896552,  2.37931034,  2.68965517,  3.        ],\n",
       "       [-6.        , -5.68965517, -5.37931034, -5.06896552, -4.75862069,\n",
       "        -4.44827586, -4.13793103, -3.82758621, -3.51724138, -3.20689655,\n",
       "        -2.89655172, -2.5862069 , -2.27586207, -1.96551724, -1.65517241,\n",
       "        -1.34482759, -1.03448276, -0.72413793, -0.4137931 , -0.10344828,\n",
       "         0.20689655,  0.51724138,  0.82758621,  1.13793103,  1.44827586,\n",
       "         1.75862069,  2.06896552,  2.37931034,  2.68965517,  3.        ],\n",
       "       [-6.        , -5.68965517, -5.37931034, -5.06896552, -4.75862069,\n",
       "        -4.44827586, -4.13793103, -3.82758621, -3.51724138, -3.20689655,\n",
       "        -2.89655172, -2.5862069 , -2.27586207, -1.96551724, -1.65517241,\n",
       "        -1.34482759, -1.03448276, -0.72413793, -0.4137931 , -0.10344828,\n",
       "         0.20689655,  0.51724138,  0.82758621,  1.13793103,  1.44827586,\n",
       "         1.75862069,  2.06896552,  2.37931034,  2.68965517,  3.        ],\n",
       "       [-6.        , -5.68965517, -5.37931034, -5.06896552, -4.75862069,\n",
       "        -4.44827586, -4.13793103, -3.82758621, -3.51724138, -3.20689655,\n",
       "        -2.89655172, -2.5862069 , -2.27586207, -1.96551724, -1.65517241,\n",
       "        -1.34482759, -1.03448276, -0.72413793, -0.4137931 , -0.10344828,\n",
       "         0.20689655,  0.51724138,  0.82758621,  1.13793103,  1.44827586,\n",
       "         1.75862069,  2.06896552,  2.37931034,  2.68965517,  3.        ],\n",
       "       [-6.        , -5.68965517, -5.37931034, -5.06896552, -4.75862069,\n",
       "        -4.44827586, -4.13793103, -3.82758621, -3.51724138, -3.20689655,\n",
       "        -2.89655172, -2.5862069 , -2.27586207, -1.96551724, -1.65517241,\n",
       "        -1.34482759, -1.03448276, -0.72413793, -0.4137931 , -0.10344828,\n",
       "         0.20689655,  0.51724138,  0.82758621,  1.13793103,  1.44827586,\n",
       "         1.75862069,  2.06896552,  2.37931034,  2.68965517,  3.        ],\n",
       "       [-6.        , -5.68965517, -5.37931034, -5.06896552, -4.75862069,\n",
       "        -4.44827586, -4.13793103, -3.82758621, -3.51724138, -3.20689655,\n",
       "        -2.89655172, -2.5862069 , -2.27586207, -1.96551724, -1.65517241,\n",
       "        -1.34482759, -1.03448276, -0.72413793, -0.4137931 , -0.10344828,\n",
       "         0.20689655,  0.51724138,  0.82758621,  1.13793103,  1.44827586,\n",
       "         1.75862069,  2.06896552,  2.37931034,  2.68965517,  3.        ],\n",
       "       [-6.        , -5.68965517, -5.37931034, -5.06896552, -4.75862069,\n",
       "        -4.44827586, -4.13793103, -3.82758621, -3.51724138, -3.20689655,\n",
       "        -2.89655172, -2.5862069 , -2.27586207, -1.96551724, -1.65517241,\n",
       "        -1.34482759, -1.03448276, -0.72413793, -0.4137931 , -0.10344828,\n",
       "         0.20689655,  0.51724138,  0.82758621,  1.13793103,  1.44827586,\n",
       "         1.75862069,  2.06896552,  2.37931034,  2.68965517,  3.        ],\n",
       "       [-6.        , -5.68965517, -5.37931034, -5.06896552, -4.75862069,\n",
       "        -4.44827586, -4.13793103, -3.82758621, -3.51724138, -3.20689655,\n",
       "        -2.89655172, -2.5862069 , -2.27586207, -1.96551724, -1.65517241,\n",
       "        -1.34482759, -1.03448276, -0.72413793, -0.4137931 , -0.10344828,\n",
       "         0.20689655,  0.51724138,  0.82758621,  1.13793103,  1.44827586,\n",
       "         1.75862069,  2.06896552,  2.37931034,  2.68965517,  3.        ],\n",
       "       [-6.        , -5.68965517, -5.37931034, -5.06896552, -4.75862069,\n",
       "        -4.44827586, -4.13793103, -3.82758621, -3.51724138, -3.20689655,\n",
       "        -2.89655172, -2.5862069 , -2.27586207, -1.96551724, -1.65517241,\n",
       "        -1.34482759, -1.03448276, -0.72413793, -0.4137931 , -0.10344828,\n",
       "         0.20689655,  0.51724138,  0.82758621,  1.13793103,  1.44827586,\n",
       "         1.75862069,  2.06896552,  2.37931034,  2.68965517,  3.        ],\n",
       "       [-6.        , -5.68965517, -5.37931034, -5.06896552, -4.75862069,\n",
       "        -4.44827586, -4.13793103, -3.82758621, -3.51724138, -3.20689655,\n",
       "        -2.89655172, -2.5862069 , -2.27586207, -1.96551724, -1.65517241,\n",
       "        -1.34482759, -1.03448276, -0.72413793, -0.4137931 , -0.10344828,\n",
       "         0.20689655,  0.51724138,  0.82758621,  1.13793103,  1.44827586,\n",
       "         1.75862069,  2.06896552,  2.37931034,  2.68965517,  3.        ],\n",
       "       [-6.        , -5.68965517, -5.37931034, -5.06896552, -4.75862069,\n",
       "        -4.44827586, -4.13793103, -3.82758621, -3.51724138, -3.20689655,\n",
       "        -2.89655172, -2.5862069 , -2.27586207, -1.96551724, -1.65517241,\n",
       "        -1.34482759, -1.03448276, -0.72413793, -0.4137931 , -0.10344828,\n",
       "         0.20689655,  0.51724138,  0.82758621,  1.13793103,  1.44827586,\n",
       "         1.75862069,  2.06896552,  2.37931034,  2.68965517,  3.        ],\n",
       "       [-6.        , -5.68965517, -5.37931034, -5.06896552, -4.75862069,\n",
       "        -4.44827586, -4.13793103, -3.82758621, -3.51724138, -3.20689655,\n",
       "        -2.89655172, -2.5862069 , -2.27586207, -1.96551724, -1.65517241,\n",
       "        -1.34482759, -1.03448276, -0.72413793, -0.4137931 , -0.10344828,\n",
       "         0.20689655,  0.51724138,  0.82758621,  1.13793103,  1.44827586,\n",
       "         1.75862069,  2.06896552,  2.37931034,  2.68965517,  3.        ],\n",
       "       [-6.        , -5.68965517, -5.37931034, -5.06896552, -4.75862069,\n",
       "        -4.44827586, -4.13793103, -3.82758621, -3.51724138, -3.20689655,\n",
       "        -2.89655172, -2.5862069 , -2.27586207, -1.96551724, -1.65517241,\n",
       "        -1.34482759, -1.03448276, -0.72413793, -0.4137931 , -0.10344828,\n",
       "         0.20689655,  0.51724138,  0.82758621,  1.13793103,  1.44827586,\n",
       "         1.75862069,  2.06896552,  2.37931034,  2.68965517,  3.        ],\n",
       "       [-6.        , -5.68965517, -5.37931034, -5.06896552, -4.75862069,\n",
       "        -4.44827586, -4.13793103, -3.82758621, -3.51724138, -3.20689655,\n",
       "        -2.89655172, -2.5862069 , -2.27586207, -1.96551724, -1.65517241,\n",
       "        -1.34482759, -1.03448276, -0.72413793, -0.4137931 , -0.10344828,\n",
       "         0.20689655,  0.51724138,  0.82758621,  1.13793103,  1.44827586,\n",
       "         1.75862069,  2.06896552,  2.37931034,  2.68965517,  3.        ]])"
      ]
     },
     "execution_count": 27,
     "metadata": {},
     "output_type": "execute_result"
    }
   ],
   "source": [
    "X"
   ]
  },
  {
   "cell_type": "markdown",
   "metadata": {},
   "source": [
    "## ravel 拉平法"
   ]
  },
  {
   "cell_type": "code",
   "execution_count": 28,
   "metadata": {
    "collapsed": true
   },
   "outputs": [],
   "source": [
    "X = X.ravel()\n",
    "Y = Y.ravel()"
   ]
  },
  {
   "cell_type": "code",
   "execution_count": 29,
   "metadata": {},
   "outputs": [
    {
     "data": {
      "text/plain": [
       "<matplotlib.collections.PathCollection at 0x1a14704860>"
      ]
     },
     "execution_count": 29,
     "metadata": {},
     "output_type": "execute_result"
    },
    {
     "data": {
      "image/png": "[encoded data removed]",
      "text/plain": [
       "<matplotlib.figure.Figure at 0x1a150b0b70>"
      ]
     },
     "metadata": {},
     "output_type": "display_data"
    }
   ],
   "source": [
    "plt.scatter(X,Y)"
   ]
  },
  {
   "cell_type": "markdown",
   "metadata": {},
   "source": [
    "## zip 高級組合-->將array組合\n",
    "\n",
    "要怎麼把xx跟yy的第一個座標拿出來合再一起"
   ]
  },
  {
   "cell_type": "code",
   "execution_count": 30,
   "metadata": {
    "collapsed": true
   },
   "outputs": [],
   "source": [
    "xx = [1,2,3,4]\n",
    "yy = [5,6,7,8]"
   ]
  },
  {
   "cell_type": "code",
   "execution_count": 31,
   "metadata": {},
   "outputs": [
    {
     "data": {
      "text/plain": [
       "[(1, 5), (2, 6), (3, 7), (4, 8)]"
      ]
     },
     "execution_count": 31,
     "metadata": {},
     "output_type": "execute_result"
    }
   ],
   "source": [
    "list (zip(xx,yy))"
   ]
  },
  {
   "cell_type": "code",
   "execution_count": 34,
   "metadata": {
    "collapsed": true
   },
   "outputs": [],
   "source": [
    "Z = clf.predict(list(zip(X,Y)))"
   ]
  },
  {
   "cell_type": "code",
   "execution_count": 35,
   "metadata": {
    "collapsed": true
   },
   "outputs": [
    {
     "data": {
      "text/plain": [
       "array([1, 1, 1, 1, 1, 1, 1, 1, 1, 1, 1, 1, 2, 2, 2, 2, 2, 2, 2, 2, 2, 2, 2,\n",
       "       2, 2, 2, 2, 2, 2, 2, 1, 1, 1, 1, 1, 1, 1, 1, 1, 1, 1, 1, 2, 2, 2, 2,\n",
       "       2, 2, 2, 2, 2, 2, 2, 2, 2, 2, 2, 2, 2, 2, 1, 1, 1, 1, 1, 1, 1, 1, 1,\n",
       "       1, 1, 1, 2, 2, 2, 2, 2, 2, 2, 2, 2, 2, 2, 2, 2, 2, 2, 2, 2, 2, 1, 1,\n",
       "       1, 1, 1, 1, 1, 1, 1, 1, 1, 1, 2, 2, 2, 2, 2, 2, 2, 2, 2, 2, 2, 2, 2,\n",
       "       2, 2, 2, 2, 2, 1, 1, 1, 1, 1, 1, 1, 1, 1, 1, 1, 1, 1, 2, 2, 2, 2, 2,\n",
       "       2, 2, 2, 2, 2, 2, 2, 2, 2, 2, 2, 2, 1, 1, 1, 1, 1, 1, 1, 1, 1, 1, 1,\n",
       "       1, 1, 1, 2, 2, 2, 2, 2, 2, 2, 2, 2, 2, 2, 2, 2, 2, 2, 2, 1, 1, 1, 1,\n",
       "       1, 1, 1, 1, 1, 1, 1, 1, 1, 1, 2, 2, 2, 2, 2, 2, 2, 2, 2, 2, 2, 2, 2,\n",
       "       2, 2, 2, 1, 1, 1, 1, 1, 1, 1, 1, 1, 1, 1, 1, 1, 1, 1, 2, 2, 2, 2, 2,\n",
       "       2, 2, 2, 2, 2, 2, 2, 2, 2, 2, 1, 1, 1, 1, 1, 1, 1, 1, 1, 1, 1, 1, 1,\n",
       "       1, 1, 2, 2, 2, 2, 2, 2, 2, 2, 2, 2, 2, 2, 2, 2, 2, 1, 1, 1, 1, 1, 1,\n",
       "       1, 1, 1, 1, 1, 1, 1, 1, 1, 2, 2, 2, 2, 2, 2, 2, 2, 2, 2, 2, 2, 2, 2,\n",
       "       2, 1, 1, 1, 1, 1, 1, 1, 1, 1, 1, 1, 1, 1, 1, 1, 2, 2, 2, 2, 2, 2, 2,\n",
       "       2, 2, 2, 2, 2, 2, 2, 2, 1, 1, 1, 1, 1, 1, 1, 1, 1, 1, 1, 1, 1, 1, 1,\n",
       "       2, 2, 2, 2, 2, 2, 2, 2, 2, 2, 2, 2, 2, 2, 2, 1, 1, 1, 1, 1, 1, 1, 1,\n",
       "       1, 1, 1, 1, 1, 1, 1, 1, 2, 2, 2, 2, 2, 2, 2, 2, 2, 2, 2, 2, 2, 2, 1,\n",
       "       1, 1, 1, 1, 1, 1, 1, 1, 1, 1, 1, 1, 1, 1, 1, 1, 2, 2, 2, 2, 2, 2, 2,\n",
       "       2, 2, 2, 2, 2, 2, 1, 1, 1, 1, 1, 1, 1, 1, 1, 1, 1, 1, 1, 1, 1, 1, 1,\n",
       "       1, 2, 2, 2, 2, 2, 2, 2, 2, 2, 2, 2, 2, 1, 1, 1, 1, 1, 1, 1, 1, 1, 1,\n",
       "       1, 1, 1, 1, 1, 1, 1, 1, 1, 2, 2, 2, 2, 2, 2, 2, 2, 2, 2, 2, 1, 1, 1,\n",
       "       1, 1, 1, 1, 1, 1, 1, 1, 1, 1, 1, 1, 1, 1, 1, 1, 1, 1, 2, 2, 2, 2, 2,\n",
       "       2, 2, 2, 2, 1, 1, 1, 1, 1, 1, 1, 1, 1, 1, 1, 1, 1, 1, 1, 1, 1, 1, 1,\n",
       "       1, 1, 1, 2, 2, 2, 2, 2, 2, 2, 2, 1, 1, 1, 1, 1, 1, 1, 1, 1, 1, 1, 1,\n",
       "       1, 1, 1, 1, 1, 1, 1, 1, 1, 1, 1, 1, 2, 2, 2, 2, 2, 2, 1, 1, 1, 1, 1,\n",
       "       1, 1, 1, 1, 1, 1, 1, 1, 1, 1, 1, 1, 1, 1, 1, 1, 1, 1, 1, 1, 1, 1, 1,\n",
       "       1, 1, 1, 1, 1, 1, 1, 1, 1, 1, 1, 1, 1, 1, 1, 1, 1, 1, 1, 1, 1, 1, 1,\n",
       "       1, 1, 1, 1, 1, 1, 1, 1, 1, 1, 1, 1, 1, 1, 1, 1, 1, 1, 1, 1, 1, 1, 1,\n",
       "       1, 1, 1, 1, 1, 1, 1, 1, 1, 1, 1, 1, 1, 1, 1, 1, 1, 1, 1, 1, 1, 1, 1,\n",
       "       1, 1, 1, 1, 1, 1, 1, 1, 1, 1, 1, 1, 1, 1, 1, 1, 1, 1, 1, 1, 1, 1, 1,\n",
       "       1, 1, 1, 1, 1, 1, 1, 1, 1, 1, 1, 1, 1, 1, 1, 1, 1, 1, 1, 1, 1, 1, 1,\n",
       "       1, 1, 1, 1, 1, 1, 1, 1, 1, 1, 1, 1, 1, 1, 1, 1, 1, 1, 1, 1, 1, 1, 1,\n",
       "       1, 1, 1, 1, 1, 1, 1, 1, 1, 1, 1, 1, 1, 1, 1, 1, 1, 1, 1, 1, 1, 1, 1,\n",
       "       1, 1, 1, 1, 1, 1, 1, 1, 1, 1, 1, 1, 1, 1, 1, 1, 1, 1, 1, 1, 1, 1, 1,\n",
       "       1, 1, 1, 1, 1, 1, 1, 1, 1, 1, 1, 1, 1, 1, 1, 1, 1, 1, 1, 1, 1, 1, 1,\n",
       "       1, 1, 1, 1, 1, 1, 1, 1, 1, 1, 1, 1, 1, 1, 1, 1, 1, 1, 1, 1, 1, 1, 1,\n",
       "       1, 1, 1, 1, 1, 1, 1, 1, 1, 1, 1, 1, 1, 1, 1, 1, 1, 1, 1, 1, 1, 1, 1,\n",
       "       1, 1, 1, 1, 1, 1, 1, 1, 1, 1, 1, 1, 1, 1, 1, 1, 1, 1, 1, 1, 1, 1, 1,\n",
       "       1, 1, 1, 1, 1, 1, 1, 1, 1, 1, 1, 1, 1, 1, 1, 1, 1, 1, 1, 1, 1, 1, 1,\n",
       "       1, 1, 1])"
      ]
     },
     "execution_count": 35,
     "metadata": {},
     "output_type": "execute_result"
    }
   ],
   "source": [
    "Z"
   ]
  },
  {
   "cell_type": "code",
   "execution_count": 36,
   "metadata": {},
   "outputs": [
    {
     "data": {
      "text/plain": [
       "<matplotlib.collections.PathCollection at 0x106a2efd0>"
      ]
     },
     "execution_count": 36,
     "metadata": {},
     "output_type": "execute_result"
    },
    {
     "data": {
      "image/png": "[encoded data removed]",
      "text/plain": [
       "<matplotlib.figure.Figure at 0x1a1451b320>"
      ]
     },
     "metadata": {},
     "output_type": "display_data"
    }
   ],
   "source": [
    "plt.scatter(X,Y,s=50,c=Z)"
   ]
  },
  {
   "cell_type": "markdown",
   "metadata": {},
   "source": [
    "# 做鳶尾花分類\n",
    "\n",
    "X[]是花瓣的長度、寬度"
   ]
  },
  {
   "cell_type": "code",
   "execution_count": null,
   "metadata": {
    "collapsed": true
   },
   "outputs": [],
   "source": []
  },
  {
   "cell_type": "code",
   "execution_count": 54,
   "metadata": {
    "collapsed": true
   },
   "outputs": [],
   "source": [
    "from sklearn.datasets import load_iris"
   ]
  },
  {
   "cell_type": "code",
   "execution_count": 55,
   "metadata": {
    "collapsed": true
   },
   "outputs": [],
   "source": [
    "iris = load_iris()"
   ]
  },
  {
   "cell_type": "code",
   "execution_count": 57,
   "metadata": {
    "collapsed": true
   },
   "outputs": [],
   "source": [
    "X = iris.data"
   ]
  },
  {
   "cell_type": "code",
   "execution_count": 58,
   "metadata": {
    "collapsed": true
   },
   "outputs": [],
   "source": [
    "Y = iris.target"
   ]
  },
  {
   "cell_type": "code",
   "execution_count": 59,
   "metadata": {},
   "outputs": [
    {
     "data": {
      "text/plain": [
       "array([ 5.1,  3.5,  1.4,  0.2])"
      ]
     },
     "execution_count": 59,
     "metadata": {},
     "output_type": "execute_result"
    }
   ],
   "source": [
    "X[0]"
   ]
  },
  {
   "cell_type": "code",
   "execution_count": 60,
   "metadata": {},
   "outputs": [
    {
     "data": {
      "text/plain": [
       "array([ 1.4,  0.2])"
      ]
     },
     "execution_count": 60,
     "metadata": {},
     "output_type": "execute_result"
    }
   ],
   "source": [
    "X[0][2:]"
   ]
  },
  {
   "cell_type": "markdown",
   "metadata": {},
   "source": [
    "[2:] 表示從2到最後"
   ]
  },
  {
   "cell_type": "code",
   "execution_count": 61,
   "metadata": {
    "collapsed": true
   },
   "outputs": [],
   "source": [
    "X = X[:,2:]"
   ]
  },
  {
   "cell_type": "code",
   "execution_count": 63,
   "metadata": {},
   "outputs": [
    {
     "data": {
      "text/plain": [
       "array([ 1.4,  0.2])"
      ]
     },
     "execution_count": 63,
     "metadata": {},
     "output_type": "execute_result"
    }
   ],
   "source": [
    "X[0]"
   ]
  },
  {
   "cell_type": "code",
   "execution_count": 64,
   "metadata": {},
   "outputs": [
    {
     "data": {
      "text/plain": [
       "array([0, 0, 0, 0, 0, 0, 0, 0, 0, 0, 0, 0, 0, 0, 0, 0, 0, 0, 0, 0, 0, 0, 0,\n",
       "       0, 0, 0, 0, 0, 0, 0, 0, 0, 0, 0, 0, 0, 0, 0, 0, 0, 0, 0, 0, 0, 0, 0,\n",
       "       0, 0, 0, 0, 1, 1, 1, 1, 1, 1, 1, 1, 1, 1, 1, 1, 1, 1, 1, 1, 1, 1, 1,\n",
       "       1, 1, 1, 1, 1, 1, 1, 1, 1, 1, 1, 1, 1, 1, 1, 1, 1, 1, 1, 1, 1, 1, 1,\n",
       "       1, 1, 1, 1, 1, 1, 1, 1, 2, 2, 2, 2, 2, 2, 2, 2, 2, 2, 2, 2, 2, 2, 2,\n",
       "       2, 2, 2, 2, 2, 2, 2, 2, 2, 2, 2, 2, 2, 2, 2, 2, 2, 2, 2, 2, 2, 2, 2,\n",
       "       2, 2, 2, 2, 2, 2, 2, 2, 2, 2, 2, 2])"
      ]
     },
     "execution_count": 64,
     "metadata": {},
     "output_type": "execute_result"
    }
   ],
   "source": [
    "Y"
   ]
  },
  {
   "cell_type": "markdown",
   "metadata": {},
   "source": [
    "用上面分類來做機器學習"
   ]
  },
  {
   "cell_type": "code",
   "execution_count": 65,
   "metadata": {
    "collapsed": true
   },
   "outputs": [],
   "source": [
    "from sklearn.model_selection import train_test_split"
   ]
  },
  {
   "cell_type": "code",
   "execution_count": 67,
   "metadata": {
    "collapsed": true
   },
   "outputs": [],
   "source": [
    "x_train,x_test,y_train,y_test = train_test_split(X,Y,\n",
    "                                                    test_size = 0.2,\n",
    "                                                       random_state = 87)"
   ]
  },
  {
   "cell_type": "code",
   "execution_count": 71,
   "metadata": {},
   "outputs": [
    {
     "data": {
      "text/plain": [
       "<matplotlib.collections.PathCollection at 0x1a149bf978>"
      ]
     },
     "execution_count": 71,
     "metadata": {},
     "output_type": "execute_result"
    },
    {
     "data": {
      "image/png": "[encoded data removed]",
      "text/plain": [
       "<matplotlib.figure.Figure at 0x1a14ac5f28>"
      ]
     },
     "metadata": {},
     "output_type": "display_data"
    }
   ],
   "source": [
    "plt.scatter(x_train[:,0],x_train[:,1],c=y_train)"
   ]
  },
  {
   "cell_type": "markdown",
   "metadata": {},
   "source": [
    "試試看是否成功"
   ]
  },
  {
   "cell_type": "code",
   "execution_count": 73,
   "metadata": {
    "collapsed": true
   },
   "outputs": [],
   "source": [
    "from sklearn.svm import SVC"
   ]
  },
  {
   "cell_type": "code",
   "execution_count": 77,
   "metadata": {
    "collapsed": true
   },
   "outputs": [],
   "source": [
    "clf = SVC()"
   ]
  },
  {
   "cell_type": "code",
   "execution_count": 79,
   "metadata": {},
   "outputs": [
    {
     "data": {
      "text/plain": [
       "SVC(C=1.0, cache_size=200, class_weight=None, coef0=0.0,\n",
       "  decision_function_shape='ovr', degree=3, gamma='auto', kernel='rbf',\n",
       "  max_iter=-1, probability=False, random_state=None, shrinking=True,\n",
       "  tol=0.001, verbose=False)"
      ]
     },
     "execution_count": 79,
     "metadata": {},
     "output_type": "execute_result"
    }
   ],
   "source": [
    "clf.fit(x_train,y_train)"
   ]
  },
  {
   "cell_type": "code",
   "execution_count": 80,
   "metadata": {
    "collapsed": true
   },
   "outputs": [],
   "source": [
    "y_predict = clf.predict(x_test)"
   ]
  },
  {
   "cell_type": "code",
   "execution_count": 81,
   "metadata": {},
   "outputs": [
    {
     "data": {
      "text/plain": [
       "<matplotlib.collections.PathCollection at 0x1a152bbf28>"
      ]
     },
     "execution_count": 81,
     "metadata": {},
     "output_type": "execute_result"
    },
    {
     "data": {
      "image/png": "[encoded data removed]",
      "text/plain": [
       "<matplotlib.figure.Figure at 0x1a14e33e48>"
      ]
     },
     "metadata": {},
     "output_type": "display_data"
    }
   ],
   "source": [
    "plt.scatter(x_test[:,0],x_test[:,1],c=y_predict)"
   ]
  },
  {
   "cell_type": "code",
   "execution_count": 83,
   "metadata": {},
   "outputs": [
    {
     "data": {
      "text/plain": [
       "<matplotlib.collections.PathCollection at 0x1a15402ba8>"
      ]
     },
     "execution_count": 83,
     "metadata": {},
     "output_type": "execute_result"
    },
    {
     "data": {
      "image/png": "[encoded data removed]",
      "text/plain": [
       "<matplotlib.figure.Figure at 0x1a15341198>"
      ]
     },
     "metadata": {},
     "output_type": "display_data"
    }
   ],
   "source": [
    "plt.scatter(x_test[:,0],x_test[:,1],c=y_predict - y_test)"
   ]
  },
  {
   "cell_type": "markdown",
   "metadata": {},
   "source": [
    "#### 上圖 紫色就是分對的地方"
   ]
  },
  {
   "cell_type": "markdown",
   "metadata": {},
   "source": [
    "# 更深入的分析\n",
    "更炫的繪圖法\n",
    "\n",
    "先介紹指令"
   ]
  },
  {
   "cell_type": "code",
   "execution_count": 86,
   "metadata": {},
   "outputs": [
    {
     "data": {
      "text/plain": [
       "array([  0.3,   0.5,   0.7,   0.9,   1.1,   1.3,   1.5,   1.7,   1.9,\n",
       "         2.1,   2.3,   2.5,   2.7,   2.9,   3.1,   3.3,   3.5,   3.7,\n",
       "         3.9,   4.1,   4.3,   4.5,   4.7,   4.9,   5.1,   5.3,   5.5,\n",
       "         5.7,   5.9,   6.1,   6.3,   6.5,   6.7,   6.9,   7.1,   7.3,\n",
       "         7.5,   7.7,   7.9,   8.1,   8.3,   8.5,   8.7,   8.9,   9.1,\n",
       "         9.3,   9.5,   9.7,   9.9,  10.1])"
      ]
     },
     "execution_count": 86,
     "metadata": {},
     "output_type": "execute_result"
    }
   ],
   "source": [
    "np.arange(0.3,10.3,0.2)"
   ]
  },
  {
   "cell_type": "code",
   "execution_count": 88,
   "metadata": {
    "collapsed": true
   },
   "outputs": [],
   "source": [
    "x1 , x2 = np.meshgrid(np.arange(0,7,0.02),np.arange(0,3,0.02))"
   ]
  },
  {
   "cell_type": "code",
   "execution_count": 89,
   "metadata": {
    "collapsed": true
   },
   "outputs": [],
   "source": [
    "xx = [1,2,3,4]\n",
    "yy = [5,6,7,8]"
   ]
  },
  {
   "cell_type": "code",
   "execution_count": 90,
   "metadata": {},
   "outputs": [
    {
     "data": {
      "text/plain": [
       "array([[1, 5],\n",
       "       [2, 6],\n",
       "       [3, 7],\n",
       "       [4, 8]])"
      ]
     },
     "execution_count": 90,
     "metadata": {},
     "output_type": "execute_result"
    }
   ],
   "source": [
    "np.c_[xx,yy]"
   ]
  },
  {
   "cell_type": "code",
   "execution_count": 91,
   "metadata": {
    "collapsed": true
   },
   "outputs": [],
   "source": [
    "z = clf.predict(np.c_[x1.ravel(),x2.ravel()])"
   ]
  },
  {
   "cell_type": "code",
   "execution_count": 92,
   "metadata": {
    "collapsed": true
   },
   "outputs": [],
   "source": [
    "z =z.reshape(x1.shape)"
   ]
  },
  {
   "cell_type": "code",
   "execution_count": 94,
   "metadata": {},
   "outputs": [
    {
     "data": {
      "text/plain": [
       "<matplotlib.collections.PathCollection at 0x1a15a9ce48>"
      ]
     },
     "execution_count": 94,
     "metadata": {},
     "output_type": "execute_result"
    },
    {
     "data": {
      "image/png": "[encoded data removed]",
      "text/plain": [
       "<matplotlib.figure.Figure at 0x1a15909ba8>"
      ]
     },
     "metadata": {},
     "output_type": "display_data"
    }
   ],
   "source": [
    "plt.contourf(x1,x2,z,cmap=plt.cm.coolwarm,alpha=0.8)\n",
    "plt.scatter(X[:,0],X[:,1],c=Y)"
   ]
  },
  {
   "cell_type": "markdown",
   "metadata": {},
   "source": [
    "# Kmeans 自動分類\n",
    "\n",
    "先生成100筆資料"
   ]
  },
  {
   "cell_type": "code",
   "execution_count": 95,
   "metadata": {
    "collapsed": true
   },
   "outputs": [],
   "source": [
    "XX = np.random.rand(100,2)"
   ]
  },
  {
   "cell_type": "code",
   "execution_count": 96,
   "metadata": {},
   "outputs": [
    {
     "data": {
      "text/plain": [
       "array([ 0.53480549,  0.73759766])"
      ]
     },
     "execution_count": 96,
     "metadata": {},
     "output_type": "execute_result"
    }
   ],
   "source": [
    "XX[0]"
   ]
  },
  {
   "cell_type": "code",
   "execution_count": 98,
   "metadata": {},
   "outputs": [
    {
     "data": {
      "text/plain": [
       "<matplotlib.collections.PathCollection at 0x1a15b4c2b0>"
      ]
     },
     "execution_count": 98,
     "metadata": {},
     "output_type": "execute_result"
    },
    {
     "data": {
      "image/png": "[encoded data removed]",
      "text/plain": [
       "<matplotlib.figure.Figure at 0x1a145594a8>"
      ]
     },
     "metadata": {},
     "output_type": "display_data"
    }
   ],
   "source": [
    "plt.scatter(XX[:,0],XX[:,1],s=50)"
   ]
  },
  {
   "cell_type": "markdown",
   "metadata": {},
   "source": [
    "如何自動分類上面的圖？"
   ]
  },
  {
   "cell_type": "code",
   "execution_count": 99,
   "metadata": {
    "collapsed": true
   },
   "outputs": [],
   "source": [
    "from sklearn.cluster import KMeans"
   ]
  },
  {
   "cell_type": "code",
   "execution_count": 102,
   "metadata": {
    "collapsed": true
   },
   "outputs": [],
   "source": [
    "clf1 = KMeans(n_clusters=3) "
   ]
  },
  {
   "cell_type": "code",
   "execution_count": 103,
   "metadata": {},
   "outputs": [
    {
     "data": {
      "text/plain": [
       "KMeans(algorithm='auto', copy_x=True, init='k-means++', max_iter=300,\n",
       "    n_clusters=3, n_init=10, n_jobs=1, precompute_distances='auto',\n",
       "    random_state=None, tol=0.0001, verbose=0)"
      ]
     },
     "execution_count": 103,
     "metadata": {},
     "output_type": "execute_result"
    }
   ],
   "source": [
    "clf1.fit(XX)"
   ]
  },
  {
   "cell_type": "code",
   "execution_count": 104,
   "metadata": {},
   "outputs": [
    {
     "data": {
      "text/plain": [
       "array([0, 1, 1, 1, 2, 0, 2, 1, 1, 0, 2, 1, 2, 1, 1, 2, 0, 0, 2, 1, 1, 2, 1,\n",
       "       2, 2, 0, 1, 2, 1, 1, 1, 0, 2, 2, 1, 2, 1, 2, 1, 0, 1, 1, 1, 2, 1, 2,\n",
       "       0, 0, 2, 0, 2, 0, 2, 0, 2, 1, 1, 0, 1, 0, 0, 2, 0, 1, 0, 2, 1, 2, 1,\n",
       "       0, 0, 2, 0, 1, 2, 2, 1, 0, 0, 0, 1, 2, 0, 0, 2, 2, 1, 2, 1, 0, 1, 0,\n",
       "       0, 1, 1, 2, 2, 2, 1, 1], dtype=int32)"
      ]
     },
     "execution_count": 104,
     "metadata": {},
     "output_type": "execute_result"
    }
   ],
   "source": [
    "clf1.labels_"
   ]
  },
  {
   "cell_type": "code",
   "execution_count": 106,
   "metadata": {},
   "outputs": [
    {
     "data": {
      "text/plain": [
       "<matplotlib.collections.PathCollection at 0x1a16473668>"
      ]
     },
     "execution_count": 106,
     "metadata": {},
     "output_type": "execute_result"
    },
    {
     "data": {
      "image/png": "[encoded data removed]",
      "text/plain": [
       "<matplotlib.figure.Figure at 0x1a1631c5f8>"
      ]
     },
     "metadata": {},
     "output_type": "display_data"
    }
   ],
   "source": [
    "plt.scatter(XX[:,0],XX[:,1],c=clf1.labels_)"
   ]
  },
  {
   "cell_type": "code",
   "execution_count": null,
   "metadata": {
    "collapsed": true
   },
   "outputs": [],
   "source": []
  }
 ],
 "metadata": {
  "kernelspec": {
   "display_name": "Python 3",
   "language": "python",
   "name": "python3"
  },
  "language_info": {
   "codemirror_mode": {
    "name": "ipython",
    "version": 3
   },
   "file_extension": ".py",
   "mimetype": "text/x-python",
   "name": "python",
   "nbconvert_exporter": "python",
   "pygments_lexer": "ipython3",
   "version": "3.6.2"
  }
 },
 "nbformat": 4,
 "nbformat_minor": 2
}
